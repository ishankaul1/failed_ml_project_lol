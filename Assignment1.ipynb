{
  "nbformat": 4,
  "nbformat_minor": 0,
  "metadata": {
    "colab": {
      "provenance": [],
      "authorship_tag": "ABX9TyOm1Rfz1TZbN0eHysN9vAE/",
      "include_colab_link": true
    },
    "kernelspec": {
      "name": "python3",
      "display_name": "Python 3"
    },
    "language_info": {
      "name": "python"
    }
  },
  "cells": [
    {
      "cell_type": "markdown",
      "metadata": {
        "id": "view-in-github",
        "colab_type": "text"
      },
      "source": [
        "<a href=\"https://colab.research.google.com/github/ishankaul1/cs5262/blob/main/Assignment1.ipynb\" target=\"_parent\"><img src=\"https://colab.research.google.com/assets/colab-badge.svg\" alt=\"Open In Colab\"/></a>"
      ]
    },
    {
      "cell_type": "code",
      "execution_count": null,
      "metadata": {
        "id": "e6QeOkYEdDLb"
      },
      "outputs": [],
      "source": []
    },
    {
      "cell_type": "markdown",
      "source": [
        "**Background**\n",
        "\n",
        "Following the recent pandemic, the tumultuous world economy, and major wars throughout the globe, mental health is more than ever a huge topic of discussion in modern society. CDC data shows that between 2019 and 2021, rates of mental health care have increased by 5% among adults in the US. In addition,tech companies such as Calm (valued over $2 billion) have cashed out on the new emphasis on mental health. As an individual who highly values my own mental health and takes great care to optimize and regulate my daily mood, I wanted to explore what features of someone's lifestyle.\n",
        "\n",
        "\n",
        "**Description**\n",
        "\n",
        "This project will explore a lifestyle and wellbeing [dataset](https://www.kaggle.com/datasets/ydalat/lifestyle-and-wellbeing-data) I found on Kaggle, to determine what factors about someone's lifestyle might affect their mental well-being. Although the definition of what a 'good' or 'bad' state of mental health might be is subjective, I plan on using a combination of the two dataset columns 'Daily Stress', and 'Daily Shouting' as my indicator of how good or bad an individual's mental health is.\n",
        "\n",
        "\n",
        "**Performance Metric**\n",
        "\n",
        "I will be formulating the Mental Health score as a binary classifier, with the value dependent upon both 'Daily Stress' and 'Daily Shouting'. Based on my initial analysis of the data for both columns, I will consider a '1' in the Mental Health score to be \n",
        "\n",
        "```\n",
        "Daily_Shouting > 1 OR Daily_Stress > 2\n",
        "```\n",
        "This is subject to change, and I may end up using a more elaborate formula to determine the binary value as I research more ways to combine data.\n",
        "The main performance metric I'll be using is F1 score on predicting the Mental Health score, as it seems to be a widely accepted assessment of model results. However, I will definitely take a look at precision, recall, accuracy, and other performance metrics we learn in class for further analysis on my models. \n"
      ],
      "metadata": {
        "id": "kpX04fvoiGx4"
      }
    },
    {
      "cell_type": "code",
      "source": [
        "#import necessary libraries and read data\n",
        "import pandas as pd\n",
        "import numpy as np\n",
        "import seaborn as sns\n",
        "import matplotlib.pyplot as plt\n",
        "\n",
        "wellbeing_data = pd.read_csv('Wellbeing_and_lifestyle_data_Kaggle.csv')\n",
        "display(wellbeing_data.sample(1))"
      ],
      "metadata": {
        "id": "ZCIb1tJxnPmT",
        "colab": {
          "base_uri": "https://localhost:8080/",
          "height": 191
        },
        "outputId": "271f91d9-bd0a-48de-c93b-123426ac73e4"
      },
      "execution_count": 2,
      "outputs": [
        {
          "output_type": "display_data",
          "data": {
            "text/plain": [
              "    Timestamp  FRUITS_VEGGIES DAILY_STRESS  PLACES_VISITED  CORE_CIRCLE  \\\n",
              "870   9/22/15               2            2               4           10   \n",
              "\n",
              "     SUPPORTING_OTHERS  SOCIAL_NETWORK  ACHIEVEMENT  DONATION  BMI_RANGE  ...  \\\n",
              "870                  4               4            3         5          2  ...   \n",
              "\n",
              "     SLEEP_HOURS  LOST_VACATION  DAILY_SHOUTING  SUFFICIENT_INCOME  \\\n",
              "870            8              0               5                  2   \n",
              "\n",
              "     PERSONAL_AWARDS  TIME_FOR_PASSION  WEEKLY_MEDITATION         AGE  GENDER  \\\n",
              "870                3                 2                 10  51 or more  Female   \n",
              "\n",
              "     WORK_LIFE_BALANCE_SCORE  \n",
              "870                    654.3  \n",
              "\n",
              "[1 rows x 24 columns]"
            ],
            "text/html": [
              "\n",
              "  <div id=\"df-cfdc7b04-cd8f-401f-83b4-f0acdd3b1db8\">\n",
              "    <div class=\"colab-df-container\">\n",
              "      <div>\n",
              "<style scoped>\n",
              "    .dataframe tbody tr th:only-of-type {\n",
              "        vertical-align: middle;\n",
              "    }\n",
              "\n",
              "    .dataframe tbody tr th {\n",
              "        vertical-align: top;\n",
              "    }\n",
              "\n",
              "    .dataframe thead th {\n",
              "        text-align: right;\n",
              "    }\n",
              "</style>\n",
              "<table border=\"1\" class=\"dataframe\">\n",
              "  <thead>\n",
              "    <tr style=\"text-align: right;\">\n",
              "      <th></th>\n",
              "      <th>Timestamp</th>\n",
              "      <th>FRUITS_VEGGIES</th>\n",
              "      <th>DAILY_STRESS</th>\n",
              "      <th>PLACES_VISITED</th>\n",
              "      <th>CORE_CIRCLE</th>\n",
              "      <th>SUPPORTING_OTHERS</th>\n",
              "      <th>SOCIAL_NETWORK</th>\n",
              "      <th>ACHIEVEMENT</th>\n",
              "      <th>DONATION</th>\n",
              "      <th>BMI_RANGE</th>\n",
              "      <th>...</th>\n",
              "      <th>SLEEP_HOURS</th>\n",
              "      <th>LOST_VACATION</th>\n",
              "      <th>DAILY_SHOUTING</th>\n",
              "      <th>SUFFICIENT_INCOME</th>\n",
              "      <th>PERSONAL_AWARDS</th>\n",
              "      <th>TIME_FOR_PASSION</th>\n",
              "      <th>WEEKLY_MEDITATION</th>\n",
              "      <th>AGE</th>\n",
              "      <th>GENDER</th>\n",
              "      <th>WORK_LIFE_BALANCE_SCORE</th>\n",
              "    </tr>\n",
              "  </thead>\n",
              "  <tbody>\n",
              "    <tr>\n",
              "      <th>870</th>\n",
              "      <td>9/22/15</td>\n",
              "      <td>2</td>\n",
              "      <td>2</td>\n",
              "      <td>4</td>\n",
              "      <td>10</td>\n",
              "      <td>4</td>\n",
              "      <td>4</td>\n",
              "      <td>3</td>\n",
              "      <td>5</td>\n",
              "      <td>2</td>\n",
              "      <td>...</td>\n",
              "      <td>8</td>\n",
              "      <td>0</td>\n",
              "      <td>5</td>\n",
              "      <td>2</td>\n",
              "      <td>3</td>\n",
              "      <td>2</td>\n",
              "      <td>10</td>\n",
              "      <td>51 or more</td>\n",
              "      <td>Female</td>\n",
              "      <td>654.3</td>\n",
              "    </tr>\n",
              "  </tbody>\n",
              "</table>\n",
              "<p>1 rows × 24 columns</p>\n",
              "</div>\n",
              "      <button class=\"colab-df-convert\" onclick=\"convertToInteractive('df-cfdc7b04-cd8f-401f-83b4-f0acdd3b1db8')\"\n",
              "              title=\"Convert this dataframe to an interactive table.\"\n",
              "              style=\"display:none;\">\n",
              "        \n",
              "  <svg xmlns=\"http://www.w3.org/2000/svg\" height=\"24px\"viewBox=\"0 0 24 24\"\n",
              "       width=\"24px\">\n",
              "    <path d=\"M0 0h24v24H0V0z\" fill=\"none\"/>\n",
              "    <path d=\"M18.56 5.44l.94 2.06.94-2.06 2.06-.94-2.06-.94-.94-2.06-.94 2.06-2.06.94zm-11 1L8.5 8.5l.94-2.06 2.06-.94-2.06-.94L8.5 2.5l-.94 2.06-2.06.94zm10 10l.94 2.06.94-2.06 2.06-.94-2.06-.94-.94-2.06-.94 2.06-2.06.94z\"/><path d=\"M17.41 7.96l-1.37-1.37c-.4-.4-.92-.59-1.43-.59-.52 0-1.04.2-1.43.59L10.3 9.45l-7.72 7.72c-.78.78-.78 2.05 0 2.83L4 21.41c.39.39.9.59 1.41.59.51 0 1.02-.2 1.41-.59l7.78-7.78 2.81-2.81c.8-.78.8-2.07 0-2.86zM5.41 20L4 18.59l7.72-7.72 1.47 1.35L5.41 20z\"/>\n",
              "  </svg>\n",
              "      </button>\n",
              "      \n",
              "  <style>\n",
              "    .colab-df-container {\n",
              "      display:flex;\n",
              "      flex-wrap:wrap;\n",
              "      gap: 12px;\n",
              "    }\n",
              "\n",
              "    .colab-df-convert {\n",
              "      background-color: #E8F0FE;\n",
              "      border: none;\n",
              "      border-radius: 50%;\n",
              "      cursor: pointer;\n",
              "      display: none;\n",
              "      fill: #1967D2;\n",
              "      height: 32px;\n",
              "      padding: 0 0 0 0;\n",
              "      width: 32px;\n",
              "    }\n",
              "\n",
              "    .colab-df-convert:hover {\n",
              "      background-color: #E2EBFA;\n",
              "      box-shadow: 0px 1px 2px rgba(60, 64, 67, 0.3), 0px 1px 3px 1px rgba(60, 64, 67, 0.15);\n",
              "      fill: #174EA6;\n",
              "    }\n",
              "\n",
              "    [theme=dark] .colab-df-convert {\n",
              "      background-color: #3B4455;\n",
              "      fill: #D2E3FC;\n",
              "    }\n",
              "\n",
              "    [theme=dark] .colab-df-convert:hover {\n",
              "      background-color: #434B5C;\n",
              "      box-shadow: 0px 1px 3px 1px rgba(0, 0, 0, 0.15);\n",
              "      filter: drop-shadow(0px 1px 2px rgba(0, 0, 0, 0.3));\n",
              "      fill: #FFFFFF;\n",
              "    }\n",
              "  </style>\n",
              "\n",
              "      <script>\n",
              "        const buttonEl =\n",
              "          document.querySelector('#df-cfdc7b04-cd8f-401f-83b4-f0acdd3b1db8 button.colab-df-convert');\n",
              "        buttonEl.style.display =\n",
              "          google.colab.kernel.accessAllowed ? 'block' : 'none';\n",
              "\n",
              "        async function convertToInteractive(key) {\n",
              "          const element = document.querySelector('#df-cfdc7b04-cd8f-401f-83b4-f0acdd3b1db8');\n",
              "          const dataTable =\n",
              "            await google.colab.kernel.invokeFunction('convertToInteractive',\n",
              "                                                     [key], {});\n",
              "          if (!dataTable) return;\n",
              "\n",
              "          const docLinkHtml = 'Like what you see? Visit the ' +\n",
              "            '<a target=\"_blank\" href=https://colab.research.google.com/notebooks/data_table.ipynb>data table notebook</a>'\n",
              "            + ' to learn more about interactive tables.';\n",
              "          element.innerHTML = '';\n",
              "          dataTable['output_type'] = 'display_data';\n",
              "          await google.colab.output.renderOutput(dataTable, element);\n",
              "          const docLink = document.createElement('div');\n",
              "          docLink.innerHTML = docLinkHtml;\n",
              "          element.appendChild(docLink);\n",
              "        }\n",
              "      </script>\n",
              "    </div>\n",
              "  </div>\n",
              "  "
            ]
          },
          "metadata": {}
        }
      ]
    },
    {
      "cell_type": "markdown",
      "source": [
        "**Exploratory Data Analysis**\n",
        "\n",
        "Before feeding the data to machine learning models, I will explore various properties of the dataset to determing what transformations might be made to maximize its effectiveness on desirable predictions. The questions I plan to answer are:\n",
        "\n",
        "1. Do any columns have significant amounts of missing data? Depending on the severity of missing data and what features are missing, a decision must be made to either impute the data somehow, or toss the incomplete rows."
      ],
      "metadata": {
        "id": "ob3LDoBWnRA0"
      }
    },
    {
      "cell_type": "code",
      "source": [
        "wellbeing_data.info() #only had to run this one line to answer question 1, since there's no missing data"
      ],
      "metadata": {
        "colab": {
          "base_uri": "https://localhost:8080/"
        },
        "id": "7BrC8ol0ZQ-u",
        "outputId": "92f6a505-6753-4902-9511-dc03115182c3"
      },
      "execution_count": 3,
      "outputs": [
        {
          "output_type": "stream",
          "name": "stdout",
          "text": [
            "<class 'pandas.core.frame.DataFrame'>\n",
            "RangeIndex: 15972 entries, 0 to 15971\n",
            "Data columns (total 24 columns):\n",
            " #   Column                   Non-Null Count  Dtype  \n",
            "---  ------                   --------------  -----  \n",
            " 0   Timestamp                15972 non-null  object \n",
            " 1   FRUITS_VEGGIES           15972 non-null  int64  \n",
            " 2   DAILY_STRESS             15972 non-null  object \n",
            " 3   PLACES_VISITED           15972 non-null  int64  \n",
            " 4   CORE_CIRCLE              15972 non-null  int64  \n",
            " 5   SUPPORTING_OTHERS        15972 non-null  int64  \n",
            " 6   SOCIAL_NETWORK           15972 non-null  int64  \n",
            " 7   ACHIEVEMENT              15972 non-null  int64  \n",
            " 8   DONATION                 15972 non-null  int64  \n",
            " 9   BMI_RANGE                15972 non-null  int64  \n",
            " 10  TODO_COMPLETED           15972 non-null  int64  \n",
            " 11  FLOW                     15972 non-null  int64  \n",
            " 12  DAILY_STEPS              15972 non-null  int64  \n",
            " 13  LIVE_VISION              15972 non-null  int64  \n",
            " 14  SLEEP_HOURS              15972 non-null  int64  \n",
            " 15  LOST_VACATION            15972 non-null  int64  \n",
            " 16  DAILY_SHOUTING           15972 non-null  int64  \n",
            " 17  SUFFICIENT_INCOME        15972 non-null  int64  \n",
            " 18  PERSONAL_AWARDS          15972 non-null  int64  \n",
            " 19  TIME_FOR_PASSION         15972 non-null  int64  \n",
            " 20  WEEKLY_MEDITATION        15972 non-null  int64  \n",
            " 21  AGE                      15972 non-null  object \n",
            " 22  GENDER                   15972 non-null  object \n",
            " 23  WORK_LIFE_BALANCE_SCORE  15972 non-null  float64\n",
            "dtypes: float64(1), int64(19), object(4)\n",
            "memory usage: 2.9+ MB\n"
          ]
        }
      ]
    },
    {
      "cell_type": "code",
      "source": [
        "#Initial preprocessing needed for EDA.\n",
        "\n",
        "#Droping this value because it's calculated by the agency that collected this data based on the other features.\n",
        "wellbeing_data = wellbeing_data.drop(['WORK_LIFE_BALANCE_SCORE'], axis=1)\n",
        "\n",
        "#DAILY_STRESS is really an int value, but there was one garbage value that was causing me trouble\n",
        "#in the next line. Since it was only one, I dropped it rather than imputing\n",
        "wellbeing_data = wellbeing_data[wellbeing_data['DAILY_STRESS'].apply(lambda x: str(x).isdigit())]\n",
        "#converting daily_stress to int to work out of the box with pandas histograms\n",
        "wellbeing_data['DAILY_STRESS'] = wellbeing_data['DAILY_STRESS'].astype(str).astype(int)\n",
        "\n",
        "wellbeing_data.info()"
      ],
      "metadata": {
        "colab": {
          "base_uri": "https://localhost:8080/"
        },
        "id": "B_1VaTB9hhCI",
        "outputId": "930fbbd6-c938-4e0b-88e1-ceec35d713a6"
      },
      "execution_count": 4,
      "outputs": [
        {
          "output_type": "stream",
          "name": "stdout",
          "text": [
            "<class 'pandas.core.frame.DataFrame'>\n",
            "Int64Index: 15971 entries, 0 to 15971\n",
            "Data columns (total 23 columns):\n",
            " #   Column             Non-Null Count  Dtype \n",
            "---  ------             --------------  ----- \n",
            " 0   Timestamp          15971 non-null  object\n",
            " 1   FRUITS_VEGGIES     15971 non-null  int64 \n",
            " 2   DAILY_STRESS       15971 non-null  int64 \n",
            " 3   PLACES_VISITED     15971 non-null  int64 \n",
            " 4   CORE_CIRCLE        15971 non-null  int64 \n",
            " 5   SUPPORTING_OTHERS  15971 non-null  int64 \n",
            " 6   SOCIAL_NETWORK     15971 non-null  int64 \n",
            " 7   ACHIEVEMENT        15971 non-null  int64 \n",
            " 8   DONATION           15971 non-null  int64 \n",
            " 9   BMI_RANGE          15971 non-null  int64 \n",
            " 10  TODO_COMPLETED     15971 non-null  int64 \n",
            " 11  FLOW               15971 non-null  int64 \n",
            " 12  DAILY_STEPS        15971 non-null  int64 \n",
            " 13  LIVE_VISION        15971 non-null  int64 \n",
            " 14  SLEEP_HOURS        15971 non-null  int64 \n",
            " 15  LOST_VACATION      15971 non-null  int64 \n",
            " 16  DAILY_SHOUTING     15971 non-null  int64 \n",
            " 17  SUFFICIENT_INCOME  15971 non-null  int64 \n",
            " 18  PERSONAL_AWARDS    15971 non-null  int64 \n",
            " 19  TIME_FOR_PASSION   15971 non-null  int64 \n",
            " 20  WEEKLY_MEDITATION  15971 non-null  int64 \n",
            " 21  AGE                15971 non-null  object\n",
            " 22  GENDER             15971 non-null  object\n",
            "dtypes: int64(20), object(3)\n",
            "memory usage: 2.9+ MB\n"
          ]
        }
      ]
    },
    {
      "cell_type": "markdown",
      "source": [],
      "metadata": {
        "id": "7yh7YQ_bk7Lz"
      }
    },
    {
      "cell_type": "markdown",
      "source": [
        "2. How are the values for each feature distributed? Our features may be heavily skewed one way or another, especially since many of them are numerical answers where '10' simply represents 10 or more. It's very possible that a heavy skew will result in some loss of prediction power, and it may be more effective to transform skewed columns into larger categorical ranges (for example, 10 or more versus less than 10)."
      ],
      "metadata": {
        "id": "Qmdw5IvjZnrc"
      }
    },
    {
      "cell_type": "code",
      "source": [
        "#Raw timestamp wouldn't make sense in a histogram\n",
        "SKIP_HIST_COLUMNS = {'Timestamp'}\n",
        "#Age and gender are 'string' columns, so I have to plot their 'value_counts' instead of the raw columns.\n",
        "STRING_COLUMNS = {'AGE', 'GENDER'}\n",
        "#plot histograms of each feature for easy visualization\n",
        "integer_column_names = list(filter(lambda x : x not in SKIP_HIST_COLUMNS and x not in STRING_COLUMNS, list(wellbeing_data.columns.values)))\n",
        "\n",
        "for col in integer_column_names:\n",
        "  print(col)\n",
        "  wellbeing_data.hist(column=col)\n",
        "\n"
      ],
      "metadata": {
        "colab": {
          "base_uri": "https://localhost:8080/",
          "height": 1000
        },
        "id": "64yTvP-dZ__k",
        "outputId": "6f06c14d-4563-49d3-c838-11cd4dbafce9"
      },
      "execution_count": 5,
      "outputs": [
        {
          "output_type": "stream",
          "name": "stdout",
          "text": [
            "FRUITS_VEGGIES\n",
            "DAILY_STRESS\n",
            "PLACES_VISITED\n",
            "CORE_CIRCLE\n",
            "SUPPORTING_OTHERS\n",
            "SOCIAL_NETWORK\n",
            "ACHIEVEMENT\n",
            "DONATION\n",
            "BMI_RANGE\n",
            "TODO_COMPLETED\n",
            "FLOW\n",
            "DAILY_STEPS\n",
            "LIVE_VISION\n",
            "SLEEP_HOURS\n",
            "LOST_VACATION\n",
            "DAILY_SHOUTING\n",
            "SUFFICIENT_INCOME\n",
            "PERSONAL_AWARDS\n",
            "TIME_FOR_PASSION\n",
            "WEEKLY_MEDITATION\n"
          ]
        },
        {
          "output_type": "display_data",
          "data": {
            "text/plain": [
              "<Figure size 432x288 with 1 Axes>"
            ],
            "image/png": "[encoded data removed]"
          },
          "metadata": {
            "needs_background": "light"
          }
        },
        {
          "output_type": "display_data",
          "data": {
            "text/plain": [
              "<Figure size 432x288 with 1 Axes>"
            ],
            "image/png": "[encoded data removed]"
          },
          "metadata": {
            "needs_background": "light"
          }
        },
        {
          "output_type": "display_data",
          "data": {
            "text/plain": [
              "<Figure size 432x288 with 1 Axes>"
            ],
            "image/png": "[encoded data removed]"
          },
          "metadata": {
            "needs_background": "light"
          }
        },
        {
          "output_type": "display_data",
          "data": {
            "text/plain": [
              "<Figure size 432x288 with 1 Axes>"
            ],
            "image/png": "[encoded data removed]"
          },
          "metadata": {
            "needs_background": "light"
          }
        },
        {
          "output_type": "display_data",
          "data": {
            "text/plain": [
              "<Figure size 432x288 with 1 Axes>"
            ],
            "image/png": "[encoded data removed]"
          },
          "metadata": {
            "needs_background": "light"
          }
        },
        {
          "output_type": "display_data",
          "data": {
            "text/plain": [
              "<Figure size 432x288 with 1 Axes>"
            ],
            "image/png": "[encoded data removed]"
          },
          "metadata": {
            "needs_background": "light"
          }
        },
        {
          "output_type": "display_data",
          "data": {
            "text/plain": [
              "<Figure size 432x288 with 1 Axes>"
            ],
            "image/png": "[encoded data removed]"
          },
          "metadata": {
            "needs_background": "light"
          }
        },
        {
          "output_type": "display_data",
          "data": {
            "text/plain": [
              "<Figure size 432x288 with 1 Axes>"
            ],
            "image/png": "[encoded data removed]"
          },
          "metadata": {
            "needs_background": "light"
          }
        },
        {
          "output_type": "display_data",
          "data": {
            "text/plain": [
              "<Figure size 432x288 with 1 Axes>"
            ],
            "image/png": "[encoded data removed]"
          },
          "metadata": {
            "needs_background": "light"
          }
        },
        {
          "output_type": "display_data",
          "data": {
            "text/plain": [
              "<Figure size 432x288 with 1 Axes>"
            ],
            "image/png": "[encoded data removed]"
          },
          "metadata": {
            "needs_background": "light"
          }
        },
        {
          "output_type": "display_data",
          "data": {
            "text/plain": [
              "<Figure size 432x288 with 1 Axes>"
            ],
            "image/png": "[encoded data removed]"
          },
          "metadata": {
            "needs_background": "light"
          }
        },
        {
          "output_type": "display_data",
          "data": {
            "text/plain": [
              "<Figure size 432x288 with 1 Axes>"
            ],
            "image/png": "[encoded data removed]"
          },
          "metadata": {
            "needs_background": "light"
          }
        },
        {
          "output_type": "display_data",
          "data": {
            "text/plain": [
              "<Figure size 432x288 with 1 Axes>"
            ],
            "image/png": "[encoded data removed]"
          },
          "metadata": {
            "needs_background": "light"
          }
        },
        {
          "output_type": "display_data",
          "data": {
            "text/plain": [
              "<Figure size 432x288 with 1 Axes>"
            ],
            "image/png": "[encoded data removed]"
          },
          "metadata": {
            "needs_background": "light"
          }
        },
        {
          "output_type": "display_data",
          "data": {
            "text/plain": [
              "<Figure size 432x288 with 1 Axes>"
            ],
            "image/png": "[encoded data removed]"
          },
          "metadata": {
            "needs_background": "light"
          }
        },
        {
          "output_type": "display_data",
          "data": {
            "text/plain": [
              "<Figure size 432x288 with 1 Axes>"
            ],
            "image/png": "[encoded data removed]"
          },
          "metadata": {
            "needs_background": "light"
          }
        },
        {
          "output_type": "display_data",
          "data": {
            "text/plain": [
              "<Figure size 432x288 with 1 Axes>"
            ],
            "image/png": "[encoded data removed]"
          },
          "metadata": {
            "needs_background": "light"
          }
        },
        {
          "output_type": "display_data",
          "data": {
            "text/plain": [
              "<Figure size 432x288 with 1 Axes>"
            ],
            "image/png": "[encoded data removed]"
          },
          "metadata": {
            "needs_background": "light"
          }
        },
        {
          "output_type": "display_data",
          "data": {
            "text/plain": [
              "<Figure size 432x288 with 1 Axes>"
            ],
            "image/png": "[encoded data removed]"
          },
          "metadata": {
            "needs_background": "light"
          }
        },
        {
          "output_type": "display_data",
          "data": {
            "text/plain": [
              "<Figure size 432x288 with 1 Axes>"
            ],
            "image/png": "[encoded data removed]"
          },
          "metadata": {
            "needs_background": "light"
          }
        }
      ]
    },
    {
      "cell_type": "code",
      "source": [
        "display(wellbeing_data['GENDER'].value_counts().plot(kind='bar'))"
      ],
      "metadata": {
        "colab": {
          "base_uri": "https://localhost:8080/",
          "height": 309
        },
        "id": "2upCBN0uo7Tu",
        "outputId": "0e54b8ab-c5fa-4133-aa98-808501a523df"
      },
      "execution_count": null,
      "outputs": [
        {
          "output_type": "display_data",
          "data": {
            "text/plain": [
              "<matplotlib.axes._subplots.AxesSubplot at 0x7f5f8d102430>"
            ]
          },
          "metadata": {}
        },
        {
          "output_type": "display_data",
          "data": {
            "text/plain": [
              "<Figure size 432x288 with 1 Axes>"
            ],
            "image/png": "[encoded data removed]"
          },
          "metadata": {
            "needs_background": "light"
          }
        }
      ]
    },
    {
      "cell_type": "code",
      "source": [
        "display(wellbeing_data['AGE'].value_counts().plot(kind='bar'))"
      ],
      "metadata": {
        "colab": {
          "base_uri": "https://localhost:8080/",
          "height": 337
        },
        "id": "ByD2WKfyrzeD",
        "outputId": "516adbb5-7faf-42ad-fe10-a513f81daa49"
      },
      "execution_count": null,
      "outputs": [
        {
          "output_type": "display_data",
          "data": {
            "text/plain": [
              "<matplotlib.axes._subplots.AxesSubplot at 0x7f5f8d276be0>"
            ]
          },
          "metadata": {}
        },
        {
          "output_type": "display_data",
          "data": {
            "text/plain": [
              "<Figure size 432x288 with 1 Axes>"
            ],
            "image/png": "[encoded data removed]"
          },
          "metadata": {
            "needs_background": "light"
          }
        }
      ]
    },
    {
      "cell_type": "markdown",
      "source": [
        "3. What are the correlations of values between each variable? Some variables may be heavily correlated with one another, and therefore overly complicate the algorithm without providing any more useful knowledge. Since most of my variables are numeric, a correlation matrix makes sense, although their values being capped at 5 or 10 may throw off the numbers. \n"
      ],
      "metadata": {
        "id": "OOqk1GmLsSga"
      }
    },
    {
      "cell_type": "code",
      "source": [
        "cormat = wellbeing_data.corr()\n",
        "display(cormat)"
      ],
      "metadata": {
        "colab": {
          "base_uri": "https://localhost:8080/",
          "height": 741
        },
        "id": "bVjHcN4EsfVk",
        "outputId": "f77c618c-d2ea-4c2b-b370-ee0316d2a545"
      },
      "execution_count": 6,
      "outputs": [
        {
          "output_type": "display_data",
          "data": {
            "text/plain": [
              "                   FRUITS_VEGGIES  DAILY_STRESS  PLACES_VISITED  CORE_CIRCLE  \\\n",
              "FRUITS_VEGGIES           1.000000     -0.094535        0.254906     0.157785   \n",
              "DAILY_STRESS            -0.094535      1.000000       -0.134857    -0.120238   \n",
              "PLACES_VISITED           0.254906     -0.134857        1.000000     0.255803   \n",
              "CORE_CIRCLE              0.157785     -0.120238        0.255803     1.000000   \n",
              "SUPPORTING_OTHERS        0.204469     -0.029852        0.237981     0.337859   \n",
              "SOCIAL_NETWORK           0.106941      0.020930        0.149358     0.308773   \n",
              "ACHIEVEMENT              0.162901     -0.110943        0.257960     0.289460   \n",
              "DONATION                 0.199462     -0.037721        0.204597     0.221875   \n",
              "BMI_RANGE               -0.092976      0.083110       -0.108054    -0.025965   \n",
              "TODO_COMPLETED           0.227005     -0.163727        0.227671     0.224380   \n",
              "FLOW                     0.133083     -0.129903        0.138747     0.238085   \n",
              "DAILY_STEPS              0.251213     -0.065511        0.196128     0.148021   \n",
              "LIVE_VISION              0.110106     -0.134155        0.143688     0.219929   \n",
              "SLEEP_HOURS              0.103633     -0.157037        0.127251     0.066325   \n",
              "LOST_VACATION           -0.074115      0.196953       -0.129167    -0.080804   \n",
              "DAILY_SHOUTING          -0.072914      0.302669       -0.092114    -0.066590   \n",
              "SUFFICIENT_INCOME        0.148239     -0.144573        0.176672     0.123117   \n",
              "PERSONAL_AWARDS          0.167823     -0.042535        0.269723     0.253981   \n",
              "TIME_FOR_PASSION         0.164581     -0.158141        0.177892     0.227796   \n",
              "WEEKLY_MEDITATION        0.196104     -0.218660        0.209254     0.105240   \n",
              "\n",
              "                   SUPPORTING_OTHERS  SOCIAL_NETWORK  ACHIEVEMENT  DONATION  \\\n",
              "FRUITS_VEGGIES              0.204469        0.106941     0.162901  0.199462   \n",
              "DAILY_STRESS               -0.029852        0.020930    -0.110943 -0.037721   \n",
              "PLACES_VISITED              0.237981        0.149358     0.257960  0.204597   \n",
              "CORE_CIRCLE                 0.337859        0.308773     0.289460  0.221875   \n",
              "SUPPORTING_OTHERS           1.000000        0.316200     0.360077  0.393149   \n",
              "SOCIAL_NETWORK              0.316200        1.000000     0.249025  0.156792   \n",
              "ACHIEVEMENT                 0.360077        0.249025     1.000000  0.233697   \n",
              "DONATION                    0.393149        0.156792     0.233697  1.000000   \n",
              "BMI_RANGE                   0.038558        0.019843    -0.019699  0.064543   \n",
              "TODO_COMPLETED              0.256698        0.204438     0.304972  0.193845   \n",
              "FLOW                        0.278479        0.244620     0.386577  0.172498   \n",
              "DAILY_STEPS                 0.147592        0.215799     0.185946  0.113415   \n",
              "LIVE_VISION                 0.236726        0.182507     0.320680  0.164857   \n",
              "SLEEP_HOURS                 0.007125       -0.029662     0.045261 -0.001343   \n",
              "LOST_VACATION              -0.018256        0.016506     0.000727 -0.022287   \n",
              "DAILY_SHOUTING             -0.048295       -0.000050    -0.044488 -0.046904   \n",
              "SUFFICIENT_INCOME           0.113340        0.123638     0.113779  0.120585   \n",
              "PERSONAL_AWARDS             0.332666        0.209041     0.396180  0.277735   \n",
              "TIME_FOR_PASSION            0.327750        0.200535     0.368936  0.193055   \n",
              "WEEKLY_MEDITATION           0.144307       -0.006609     0.164713  0.144197   \n",
              "\n",
              "                   BMI_RANGE  TODO_COMPLETED      FLOW  DAILY_STEPS  \\\n",
              "FRUITS_VEGGIES     -0.092976        0.227005  0.133083     0.251213   \n",
              "DAILY_STRESS        0.083110       -0.163727 -0.129903    -0.065511   \n",
              "PLACES_VISITED     -0.108054        0.227671  0.138747     0.196128   \n",
              "CORE_CIRCLE        -0.025965        0.224380  0.238085     0.148021   \n",
              "SUPPORTING_OTHERS   0.038558        0.256698  0.278479     0.147592   \n",
              "SOCIAL_NETWORK      0.019843        0.204438  0.244620     0.215799   \n",
              "ACHIEVEMENT        -0.019699        0.304972  0.386577     0.185946   \n",
              "DONATION            0.064543        0.193845  0.172498     0.113415   \n",
              "BMI_RANGE           1.000000       -0.061508  0.026761    -0.131465   \n",
              "TODO_COMPLETED     -0.061508        1.000000  0.301297     0.200432   \n",
              "FLOW                0.026761        0.301297  1.000000     0.143743   \n",
              "DAILY_STEPS        -0.131465        0.200432  0.143743     1.000000   \n",
              "LIVE_VISION         0.000088        0.269876  0.306048     0.118083   \n",
              "SLEEP_HOURS        -0.098156        0.113617  0.030009     0.009218   \n",
              "LOST_VACATION       0.036683       -0.078484  0.005968    -0.053637   \n",
              "DAILY_SHOUTING      0.060470       -0.135582 -0.062248    -0.032343   \n",
              "SUFFICIENT_INCOME  -0.011863        0.203841  0.077738     0.103871   \n",
              "PERSONAL_AWARDS     0.019007        0.247069  0.221091     0.142087   \n",
              "TIME_FOR_PASSION   -0.006237        0.274486  0.483321     0.139918   \n",
              "WEEKLY_MEDITATION  -0.078189        0.182571  0.141042     0.148154   \n",
              "\n",
              "                   LIVE_VISION  SLEEP_HOURS  LOST_VACATION  DAILY_SHOUTING  \\\n",
              "FRUITS_VEGGIES        0.110106     0.103633      -0.074115       -0.072914   \n",
              "DAILY_STRESS         -0.134155    -0.157037       0.196953        0.302669   \n",
              "PLACES_VISITED        0.143688     0.127251      -0.129167       -0.092114   \n",
              "CORE_CIRCLE           0.219929     0.066325      -0.080804       -0.066590   \n",
              "SUPPORTING_OTHERS     0.236726     0.007125      -0.018256       -0.048295   \n",
              "SOCIAL_NETWORK        0.182507    -0.029662       0.016506       -0.000050   \n",
              "ACHIEVEMENT           0.320680     0.045261       0.000727       -0.044488   \n",
              "DONATION              0.164857    -0.001343      -0.022287       -0.046904   \n",
              "BMI_RANGE             0.000088    -0.098156       0.036683        0.060470   \n",
              "TODO_COMPLETED        0.269876     0.113617      -0.078484       -0.135582   \n",
              "FLOW                  0.306048     0.030009       0.005968       -0.062248   \n",
              "DAILY_STEPS           0.118083     0.009218      -0.053637       -0.032343   \n",
              "LIVE_VISION           1.000000     0.045239      -0.022624       -0.067959   \n",
              "SLEEP_HOURS           0.045239     1.000000      -0.091581       -0.077927   \n",
              "LOST_VACATION        -0.022624    -0.091581       1.000000        0.091993   \n",
              "DAILY_SHOUTING       -0.067959    -0.077927       0.091993        1.000000   \n",
              "SUFFICIENT_INCOME     0.122385     0.045341      -0.082556       -0.077566   \n",
              "PERSONAL_AWARDS       0.208261     0.011512      -0.029394       -0.034238   \n",
              "TIME_FOR_PASSION      0.316653     0.061657      -0.017804       -0.094392   \n",
              "WEEKLY_MEDITATION     0.149890     0.163147      -0.122076       -0.097912   \n",
              "\n",
              "                   SUFFICIENT_INCOME  PERSONAL_AWARDS  TIME_FOR_PASSION  \\\n",
              "FRUITS_VEGGIES              0.148239         0.167823          0.164581   \n",
              "DAILY_STRESS               -0.144573        -0.042535         -0.158141   \n",
              "PLACES_VISITED              0.176672         0.269723          0.177892   \n",
              "CORE_CIRCLE                 0.123117         0.253981          0.227796   \n",
              "SUPPORTING_OTHERS           0.113340         0.332666          0.327750   \n",
              "SOCIAL_NETWORK              0.123638         0.209041          0.200535   \n",
              "ACHIEVEMENT                 0.113779         0.396180          0.368936   \n",
              "DONATION                    0.120585         0.277735          0.193055   \n",
              "BMI_RANGE                  -0.011863         0.019007         -0.006237   \n",
              "TODO_COMPLETED              0.203841         0.247069          0.274486   \n",
              "FLOW                        0.077738         0.221091          0.483321   \n",
              "DAILY_STEPS                 0.103871         0.142087          0.139918   \n",
              "LIVE_VISION                 0.122385         0.208261          0.316653   \n",
              "SLEEP_HOURS                 0.045341         0.011512          0.061657   \n",
              "LOST_VACATION              -0.082556        -0.029394         -0.017804   \n",
              "DAILY_SHOUTING             -0.077566        -0.034238         -0.094392   \n",
              "SUFFICIENT_INCOME           1.000000         0.151837          0.072079   \n",
              "PERSONAL_AWARDS             0.151837         1.000000          0.239230   \n",
              "TIME_FOR_PASSION            0.072079         0.239230          1.000000   \n",
              "WEEKLY_MEDITATION           0.075713         0.150210          0.191987   \n",
              "\n",
              "                   WEEKLY_MEDITATION  \n",
              "FRUITS_VEGGIES              0.196104  \n",
              "DAILY_STRESS               -0.218660  \n",
              "PLACES_VISITED              0.209254  \n",
              "CORE_CIRCLE                 0.105240  \n",
              "SUPPORTING_OTHERS           0.144307  \n",
              "SOCIAL_NETWORK             -0.006609  \n",
              "ACHIEVEMENT                 0.164713  \n",
              "DONATION                    0.144197  \n",
              "BMI_RANGE                  -0.078189  \n",
              "TODO_COMPLETED              0.182571  \n",
              "FLOW                        0.141042  \n",
              "DAILY_STEPS                 0.148154  \n",
              "LIVE_VISION                 0.149890  \n",
              "SLEEP_HOURS                 0.163147  \n",
              "LOST_VACATION              -0.122076  \n",
              "DAILY_SHOUTING             -0.097912  \n",
              "SUFFICIENT_INCOME           0.075713  \n",
              "PERSONAL_AWARDS             0.150210  \n",
              "TIME_FOR_PASSION            0.191987  \n",
              "WEEKLY_MEDITATION           1.000000  "
            ],
            "text/html": [
              "\n",
              "  <div id=\"df-41564ee8-1f11-4115-ba25-7f3e1bb66822\">\n",
              "    <div class=\"colab-df-container\">\n",
              "      <div>\n",
              "<style scoped>\n",
              "    .dataframe tbody tr th:only-of-type {\n",
              "        vertical-align: middle;\n",
              "    }\n",
              "\n",
              "    .dataframe tbody tr th {\n",
              "        vertical-align: top;\n",
              "    }\n",
              "\n",
              "    .dataframe thead th {\n",
              "        text-align: right;\n",
              "    }\n",
              "</style>\n",
              "<table border=\"1\" class=\"dataframe\">\n",
              "  <thead>\n",
              "    <tr style=\"text-align: right;\">\n",
              "      <th></th>\n",
              "      <th>FRUITS_VEGGIES</th>\n",
              "      <th>DAILY_STRESS</th>\n",
              "      <th>PLACES_VISITED</th>\n",
              "      <th>CORE_CIRCLE</th>\n",
              "      <th>SUPPORTING_OTHERS</th>\n",
              "      <th>SOCIAL_NETWORK</th>\n",
              "      <th>ACHIEVEMENT</th>\n",
              "      <th>DONATION</th>\n",
              "      <th>BMI_RANGE</th>\n",
              "      <th>TODO_COMPLETED</th>\n",
              "      <th>FLOW</th>\n",
              "      <th>DAILY_STEPS</th>\n",
              "      <th>LIVE_VISION</th>\n",
              "      <th>SLEEP_HOURS</th>\n",
              "      <th>LOST_VACATION</th>\n",
              "      <th>DAILY_SHOUTING</th>\n",
              "      <th>SUFFICIENT_INCOME</th>\n",
              "      <th>PERSONAL_AWARDS</th>\n",
              "      <th>TIME_FOR_PASSION</th>\n",
              "      <th>WEEKLY_MEDITATION</th>\n",
              "    </tr>\n",
              "  </thead>\n",
              "  <tbody>\n",
              "    <tr>\n",
              "      <th>FRUITS_VEGGIES</th>\n",
              "      <td>1.000000</td>\n",
              "      <td>-0.094535</td>\n",
              "      <td>0.254906</td>\n",
              "      <td>0.157785</td>\n",
              "      <td>0.204469</td>\n",
              "      <td>0.106941</td>\n",
              "      <td>0.162901</td>\n",
              "      <td>0.199462</td>\n",
              "      <td>-0.092976</td>\n",
              "      <td>0.227005</td>\n",
              "      <td>0.133083</td>\n",
              "      <td>0.251213</td>\n",
              "      <td>0.110106</td>\n",
              "      <td>0.103633</td>\n",
              "      <td>-0.074115</td>\n",
              "      <td>-0.072914</td>\n",
              "      <td>0.148239</td>\n",
              "      <td>0.167823</td>\n",
              "      <td>0.164581</td>\n",
              "      <td>0.196104</td>\n",
              "    </tr>\n",
              "    <tr>\n",
              "      <th>DAILY_STRESS</th>\n",
              "      <td>-0.094535</td>\n",
              "      <td>1.000000</td>\n",
              "      <td>-0.134857</td>\n",
              "      <td>-0.120238</td>\n",
              "      <td>-0.029852</td>\n",
              "      <td>0.020930</td>\n",
              "      <td>-0.110943</td>\n",
              "      <td>-0.037721</td>\n",
              "      <td>0.083110</td>\n",
              "      <td>-0.163727</td>\n",
              "      <td>-0.129903</td>\n",
              "      <td>-0.065511</td>\n",
              "      <td>-0.134155</td>\n",
              "      <td>-0.157037</td>\n",
              "      <td>0.196953</td>\n",
              "      <td>0.302669</td>\n",
              "      <td>-0.144573</td>\n",
              "      <td>-0.042535</td>\n",
              "      <td>-0.158141</td>\n",
              "      <td>-0.218660</td>\n",
              "    </tr>\n",
              "    <tr>\n",
              "      <th>PLACES_VISITED</th>\n",
              "      <td>0.254906</td>\n",
              "      <td>-0.134857</td>\n",
              "      <td>1.000000</td>\n",
              "      <td>0.255803</td>\n",
              "      <td>0.237981</td>\n",
              "      <td>0.149358</td>\n",
              "      <td>0.257960</td>\n",
              "      <td>0.204597</td>\n",
              "      <td>-0.108054</td>\n",
              "      <td>0.227671</td>\n",
              "      <td>0.138747</td>\n",
              "      <td>0.196128</td>\n",
              "      <td>0.143688</td>\n",
              "      <td>0.127251</td>\n",
              "      <td>-0.129167</td>\n",
              "      <td>-0.092114</td>\n",
              "      <td>0.176672</td>\n",
              "      <td>0.269723</td>\n",
              "      <td>0.177892</td>\n",
              "      <td>0.209254</td>\n",
              "    </tr>\n",
              "    <tr>\n",
              "      <th>CORE_CIRCLE</th>\n",
              "      <td>0.157785</td>\n",
              "      <td>-0.120238</td>\n",
              "      <td>0.255803</td>\n",
              "      <td>1.000000</td>\n",
              "      <td>0.337859</td>\n",
              "      <td>0.308773</td>\n",
              "      <td>0.289460</td>\n",
              "      <td>0.221875</td>\n",
              "      <td>-0.025965</td>\n",
              "      <td>0.224380</td>\n",
              "      <td>0.238085</td>\n",
              "      <td>0.148021</td>\n",
              "      <td>0.219929</td>\n",
              "      <td>0.066325</td>\n",
              "      <td>-0.080804</td>\n",
              "      <td>-0.066590</td>\n",
              "      <td>0.123117</td>\n",
              "      <td>0.253981</td>\n",
              "      <td>0.227796</td>\n",
              "      <td>0.105240</td>\n",
              "    </tr>\n",
              "    <tr>\n",
              "      <th>SUPPORTING_OTHERS</th>\n",
              "      <td>0.204469</td>\n",
              "      <td>-0.029852</td>\n",
              "      <td>0.237981</td>\n",
              "      <td>0.337859</td>\n",
              "      <td>1.000000</td>\n",
              "      <td>0.316200</td>\n",
              "      <td>0.360077</td>\n",
              "      <td>0.393149</td>\n",
              "      <td>0.038558</td>\n",
              "      <td>0.256698</td>\n",
              "      <td>0.278479</td>\n",
              "      <td>0.147592</td>\n",
              "      <td>0.236726</td>\n",
              "      <td>0.007125</td>\n",
              "      <td>-0.018256</td>\n",
              "      <td>-0.048295</td>\n",
              "      <td>0.113340</td>\n",
              "      <td>0.332666</td>\n",
              "      <td>0.327750</td>\n",
              "      <td>0.144307</td>\n",
              "    </tr>\n",
              "    <tr>\n",
              "      <th>SOCIAL_NETWORK</th>\n",
              "      <td>0.106941</td>\n",
              "      <td>0.020930</td>\n",
              "      <td>0.149358</td>\n",
              "      <td>0.308773</td>\n",
              "      <td>0.316200</td>\n",
              "      <td>1.000000</td>\n",
              "      <td>0.249025</td>\n",
              "      <td>0.156792</td>\n",
              "      <td>0.019843</td>\n",
              "      <td>0.204438</td>\n",
              "      <td>0.244620</td>\n",
              "      <td>0.215799</td>\n",
              "      <td>0.182507</td>\n",
              "      <td>-0.029662</td>\n",
              "      <td>0.016506</td>\n",
              "      <td>-0.000050</td>\n",
              "      <td>0.123638</td>\n",
              "      <td>0.209041</td>\n",
              "      <td>0.200535</td>\n",
              "      <td>-0.006609</td>\n",
              "    </tr>\n",
              "    <tr>\n",
              "      <th>ACHIEVEMENT</th>\n",
              "      <td>0.162901</td>\n",
              "      <td>-0.110943</td>\n",
              "      <td>0.257960</td>\n",
              "      <td>0.289460</td>\n",
              "      <td>0.360077</td>\n",
              "      <td>0.249025</td>\n",
              "      <td>1.000000</td>\n",
              "      <td>0.233697</td>\n",
              "      <td>-0.019699</td>\n",
              "      <td>0.304972</td>\n",
              "      <td>0.386577</td>\n",
              "      <td>0.185946</td>\n",
              "      <td>0.320680</td>\n",
              "      <td>0.045261</td>\n",
              "      <td>0.000727</td>\n",
              "      <td>-0.044488</td>\n",
              "      <td>0.113779</td>\n",
              "      <td>0.396180</td>\n",
              "      <td>0.368936</td>\n",
              "      <td>0.164713</td>\n",
              "    </tr>\n",
              "    <tr>\n",
              "      <th>DONATION</th>\n",
              "      <td>0.199462</td>\n",
              "      <td>-0.037721</td>\n",
              "      <td>0.204597</td>\n",
              "      <td>0.221875</td>\n",
              "      <td>0.393149</td>\n",
              "      <td>0.156792</td>\n",
              "      <td>0.233697</td>\n",
              "      <td>1.000000</td>\n",
              "      <td>0.064543</td>\n",
              "      <td>0.193845</td>\n",
              "      <td>0.172498</td>\n",
              "      <td>0.113415</td>\n",
              "      <td>0.164857</td>\n",
              "      <td>-0.001343</td>\n",
              "      <td>-0.022287</td>\n",
              "      <td>-0.046904</td>\n",
              "      <td>0.120585</td>\n",
              "      <td>0.277735</td>\n",
              "      <td>0.193055</td>\n",
              "      <td>0.144197</td>\n",
              "    </tr>\n",
              "    <tr>\n",
              "      <th>BMI_RANGE</th>\n",
              "      <td>-0.092976</td>\n",
              "      <td>0.083110</td>\n",
              "      <td>-0.108054</td>\n",
              "      <td>-0.025965</td>\n",
              "      <td>0.038558</td>\n",
              "      <td>0.019843</td>\n",
              "      <td>-0.019699</td>\n",
              "      <td>0.064543</td>\n",
              "      <td>1.000000</td>\n",
              "      <td>-0.061508</td>\n",
              "      <td>0.026761</td>\n",
              "      <td>-0.131465</td>\n",
              "      <td>0.000088</td>\n",
              "      <td>-0.098156</td>\n",
              "      <td>0.036683</td>\n",
              "      <td>0.060470</td>\n",
              "      <td>-0.011863</td>\n",
              "      <td>0.019007</td>\n",
              "      <td>-0.006237</td>\n",
              "      <td>-0.078189</td>\n",
              "    </tr>\n",
              "    <tr>\n",
              "      <th>TODO_COMPLETED</th>\n",
              "      <td>0.227005</td>\n",
              "      <td>-0.163727</td>\n",
              "      <td>0.227671</td>\n",
              "      <td>0.224380</td>\n",
              "      <td>0.256698</td>\n",
              "      <td>0.204438</td>\n",
              "      <td>0.304972</td>\n",
              "      <td>0.193845</td>\n",
              "      <td>-0.061508</td>\n",
              "      <td>1.000000</td>\n",
              "      <td>0.301297</td>\n",
              "      <td>0.200432</td>\n",
              "      <td>0.269876</td>\n",
              "      <td>0.113617</td>\n",
              "      <td>-0.078484</td>\n",
              "      <td>-0.135582</td>\n",
              "      <td>0.203841</td>\n",
              "      <td>0.247069</td>\n",
              "      <td>0.274486</td>\n",
              "      <td>0.182571</td>\n",
              "    </tr>\n",
              "    <tr>\n",
              "      <th>FLOW</th>\n",
              "      <td>0.133083</td>\n",
              "      <td>-0.129903</td>\n",
              "      <td>0.138747</td>\n",
              "      <td>0.238085</td>\n",
              "      <td>0.278479</td>\n",
              "      <td>0.244620</td>\n",
              "      <td>0.386577</td>\n",
              "      <td>0.172498</td>\n",
              "      <td>0.026761</td>\n",
              "      <td>0.301297</td>\n",
              "      <td>1.000000</td>\n",
              "      <td>0.143743</td>\n",
              "      <td>0.306048</td>\n",
              "      <td>0.030009</td>\n",
              "      <td>0.005968</td>\n",
              "      <td>-0.062248</td>\n",
              "      <td>0.077738</td>\n",
              "      <td>0.221091</td>\n",
              "      <td>0.483321</td>\n",
              "      <td>0.141042</td>\n",
              "    </tr>\n",
              "    <tr>\n",
              "      <th>DAILY_STEPS</th>\n",
              "      <td>0.251213</td>\n",
              "      <td>-0.065511</td>\n",
              "      <td>0.196128</td>\n",
              "      <td>0.148021</td>\n",
              "      <td>0.147592</td>\n",
              "      <td>0.215799</td>\n",
              "      <td>0.185946</td>\n",
              "      <td>0.113415</td>\n",
              "      <td>-0.131465</td>\n",
              "      <td>0.200432</td>\n",
              "      <td>0.143743</td>\n",
              "      <td>1.000000</td>\n",
              "      <td>0.118083</td>\n",
              "      <td>0.009218</td>\n",
              "      <td>-0.053637</td>\n",
              "      <td>-0.032343</td>\n",
              "      <td>0.103871</td>\n",
              "      <td>0.142087</td>\n",
              "      <td>0.139918</td>\n",
              "      <td>0.148154</td>\n",
              "    </tr>\n",
              "    <tr>\n",
              "      <th>LIVE_VISION</th>\n",
              "      <td>0.110106</td>\n",
              "      <td>-0.134155</td>\n",
              "      <td>0.143688</td>\n",
              "      <td>0.219929</td>\n",
              "      <td>0.236726</td>\n",
              "      <td>0.182507</td>\n",
              "      <td>0.320680</td>\n",
              "      <td>0.164857</td>\n",
              "      <td>0.000088</td>\n",
              "      <td>0.269876</td>\n",
              "      <td>0.306048</td>\n",
              "      <td>0.118083</td>\n",
              "      <td>1.000000</td>\n",
              "      <td>0.045239</td>\n",
              "      <td>-0.022624</td>\n",
              "      <td>-0.067959</td>\n",
              "      <td>0.122385</td>\n",
              "      <td>0.208261</td>\n",
              "      <td>0.316653</td>\n",
              "      <td>0.149890</td>\n",
              "    </tr>\n",
              "    <tr>\n",
              "      <th>SLEEP_HOURS</th>\n",
              "      <td>0.103633</td>\n",
              "      <td>-0.157037</td>\n",
              "      <td>0.127251</td>\n",
              "      <td>0.066325</td>\n",
              "      <td>0.007125</td>\n",
              "      <td>-0.029662</td>\n",
              "      <td>0.045261</td>\n",
              "      <td>-0.001343</td>\n",
              "      <td>-0.098156</td>\n",
              "      <td>0.113617</td>\n",
              "      <td>0.030009</td>\n",
              "      <td>0.009218</td>\n",
              "      <td>0.045239</td>\n",
              "      <td>1.000000</td>\n",
              "      <td>-0.091581</td>\n",
              "      <td>-0.077927</td>\n",
              "      <td>0.045341</td>\n",
              "      <td>0.011512</td>\n",
              "      <td>0.061657</td>\n",
              "      <td>0.163147</td>\n",
              "    </tr>\n",
              "    <tr>\n",
              "      <th>LOST_VACATION</th>\n",
              "      <td>-0.074115</td>\n",
              "      <td>0.196953</td>\n",
              "      <td>-0.129167</td>\n",
              "      <td>-0.080804</td>\n",
              "      <td>-0.018256</td>\n",
              "      <td>0.016506</td>\n",
              "      <td>0.000727</td>\n",
              "      <td>-0.022287</td>\n",
              "      <td>0.036683</td>\n",
              "      <td>-0.078484</td>\n",
              "      <td>0.005968</td>\n",
              "      <td>-0.053637</td>\n",
              "      <td>-0.022624</td>\n",
              "      <td>-0.091581</td>\n",
              "      <td>1.000000</td>\n",
              "      <td>0.091993</td>\n",
              "      <td>-0.082556</td>\n",
              "      <td>-0.029394</td>\n",
              "      <td>-0.017804</td>\n",
              "      <td>-0.122076</td>\n",
              "    </tr>\n",
              "    <tr>\n",
              "      <th>DAILY_SHOUTING</th>\n",
              "      <td>-0.072914</td>\n",
              "      <td>0.302669</td>\n",
              "      <td>-0.092114</td>\n",
              "      <td>-0.066590</td>\n",
              "      <td>-0.048295</td>\n",
              "      <td>-0.000050</td>\n",
              "      <td>-0.044488</td>\n",
              "      <td>-0.046904</td>\n",
              "      <td>0.060470</td>\n",
              "      <td>-0.135582</td>\n",
              "      <td>-0.062248</td>\n",
              "      <td>-0.032343</td>\n",
              "      <td>-0.067959</td>\n",
              "      <td>-0.077927</td>\n",
              "      <td>0.091993</td>\n",
              "      <td>1.000000</td>\n",
              "      <td>-0.077566</td>\n",
              "      <td>-0.034238</td>\n",
              "      <td>-0.094392</td>\n",
              "      <td>-0.097912</td>\n",
              "    </tr>\n",
              "    <tr>\n",
              "      <th>SUFFICIENT_INCOME</th>\n",
              "      <td>0.148239</td>\n",
              "      <td>-0.144573</td>\n",
              "      <td>0.176672</td>\n",
              "      <td>0.123117</td>\n",
              "      <td>0.113340</td>\n",
              "      <td>0.123638</td>\n",
              "      <td>0.113779</td>\n",
              "      <td>0.120585</td>\n",
              "      <td>-0.011863</td>\n",
              "      <td>0.203841</td>\n",
              "      <td>0.077738</td>\n",
              "      <td>0.103871</td>\n",
              "      <td>0.122385</td>\n",
              "      <td>0.045341</td>\n",
              "      <td>-0.082556</td>\n",
              "      <td>-0.077566</td>\n",
              "      <td>1.000000</td>\n",
              "      <td>0.151837</td>\n",
              "      <td>0.072079</td>\n",
              "      <td>0.075713</td>\n",
              "    </tr>\n",
              "    <tr>\n",
              "      <th>PERSONAL_AWARDS</th>\n",
              "      <td>0.167823</td>\n",
              "      <td>-0.042535</td>\n",
              "      <td>0.269723</td>\n",
              "      <td>0.253981</td>\n",
              "      <td>0.332666</td>\n",
              "      <td>0.209041</td>\n",
              "      <td>0.396180</td>\n",
              "      <td>0.277735</td>\n",
              "      <td>0.019007</td>\n",
              "      <td>0.247069</td>\n",
              "      <td>0.221091</td>\n",
              "      <td>0.142087</td>\n",
              "      <td>0.208261</td>\n",
              "      <td>0.011512</td>\n",
              "      <td>-0.029394</td>\n",
              "      <td>-0.034238</td>\n",
              "      <td>0.151837</td>\n",
              "      <td>1.000000</td>\n",
              "      <td>0.239230</td>\n",
              "      <td>0.150210</td>\n",
              "    </tr>\n",
              "    <tr>\n",
              "      <th>TIME_FOR_PASSION</th>\n",
              "      <td>0.164581</td>\n",
              "      <td>-0.158141</td>\n",
              "      <td>0.177892</td>\n",
              "      <td>0.227796</td>\n",
              "      <td>0.327750</td>\n",
              "      <td>0.200535</td>\n",
              "      <td>0.368936</td>\n",
              "      <td>0.193055</td>\n",
              "      <td>-0.006237</td>\n",
              "      <td>0.274486</td>\n",
              "      <td>0.483321</td>\n",
              "      <td>0.139918</td>\n",
              "      <td>0.316653</td>\n",
              "      <td>0.061657</td>\n",
              "      <td>-0.017804</td>\n",
              "      <td>-0.094392</td>\n",
              "      <td>0.072079</td>\n",
              "      <td>0.239230</td>\n",
              "      <td>1.000000</td>\n",
              "      <td>0.191987</td>\n",
              "    </tr>\n",
              "    <tr>\n",
              "      <th>WEEKLY_MEDITATION</th>\n",
              "      <td>0.196104</td>\n",
              "      <td>-0.218660</td>\n",
              "      <td>0.209254</td>\n",
              "      <td>0.105240</td>\n",
              "      <td>0.144307</td>\n",
              "      <td>-0.006609</td>\n",
              "      <td>0.164713</td>\n",
              "      <td>0.144197</td>\n",
              "      <td>-0.078189</td>\n",
              "      <td>0.182571</td>\n",
              "      <td>0.141042</td>\n",
              "      <td>0.148154</td>\n",
              "      <td>0.149890</td>\n",
              "      <td>0.163147</td>\n",
              "      <td>-0.122076</td>\n",
              "      <td>-0.097912</td>\n",
              "      <td>0.075713</td>\n",
              "      <td>0.150210</td>\n",
              "      <td>0.191987</td>\n",
              "      <td>1.000000</td>\n",
              "    </tr>\n",
              "  </tbody>\n",
              "</table>\n",
              "</div>\n",
              "      <button class=\"colab-df-convert\" onclick=\"convertToInteractive('df-41564ee8-1f11-4115-ba25-7f3e1bb66822')\"\n",
              "              title=\"Convert this dataframe to an interactive table.\"\n",
              "              style=\"display:none;\">\n",
              "        \n",
              "  <svg xmlns=\"http://www.w3.org/2000/svg\" height=\"24px\"viewBox=\"0 0 24 24\"\n",
              "       width=\"24px\">\n",
              "    <path d=\"M0 0h24v24H0V0z\" fill=\"none\"/>\n",
              "    <path d=\"M18.56 5.44l.94 2.06.94-2.06 2.06-.94-2.06-.94-.94-2.06-.94 2.06-2.06.94zm-11 1L8.5 8.5l.94-2.06 2.06-.94-2.06-.94L8.5 2.5l-.94 2.06-2.06.94zm10 10l.94 2.06.94-2.06 2.06-.94-2.06-.94-.94-2.06-.94 2.06-2.06.94z\"/><path d=\"M17.41 7.96l-1.37-1.37c-.4-.4-.92-.59-1.43-.59-.52 0-1.04.2-1.43.59L10.3 9.45l-7.72 7.72c-.78.78-.78 2.05 0 2.83L4 21.41c.39.39.9.59 1.41.59.51 0 1.02-.2 1.41-.59l7.78-7.78 2.81-2.81c.8-.78.8-2.07 0-2.86zM5.41 20L4 18.59l7.72-7.72 1.47 1.35L5.41 20z\"/>\n",
              "  </svg>\n",
              "      </button>\n",
              "      \n",
              "  <style>\n",
              "    .colab-df-container {\n",
              "      display:flex;\n",
              "      flex-wrap:wrap;\n",
              "      gap: 12px;\n",
              "    }\n",
              "\n",
              "    .colab-df-convert {\n",
              "      background-color: #E8F0FE;\n",
              "      border: none;\n",
              "      border-radius: 50%;\n",
              "      cursor: pointer;\n",
              "      display: none;\n",
              "      fill: #1967D2;\n",
              "      height: 32px;\n",
              "      padding: 0 0 0 0;\n",
              "      width: 32px;\n",
              "    }\n",
              "\n",
              "    .colab-df-convert:hover {\n",
              "      background-color: #E2EBFA;\n",
              "      box-shadow: 0px 1px 2px rgba(60, 64, 67, 0.3), 0px 1px 3px 1px rgba(60, 64, 67, 0.15);\n",
              "      fill: #174EA6;\n",
              "    }\n",
              "\n",
              "    [theme=dark] .colab-df-convert {\n",
              "      background-color: #3B4455;\n",
              "      fill: #D2E3FC;\n",
              "    }\n",
              "\n",
              "    [theme=dark] .colab-df-convert:hover {\n",
              "      background-color: #434B5C;\n",
              "      box-shadow: 0px 1px 3px 1px rgba(0, 0, 0, 0.15);\n",
              "      filter: drop-shadow(0px 1px 2px rgba(0, 0, 0, 0.3));\n",
              "      fill: #FFFFFF;\n",
              "    }\n",
              "  </style>\n",
              "\n",
              "      <script>\n",
              "        const buttonEl =\n",
              "          document.querySelector('#df-41564ee8-1f11-4115-ba25-7f3e1bb66822 button.colab-df-convert');\n",
              "        buttonEl.style.display =\n",
              "          google.colab.kernel.accessAllowed ? 'block' : 'none';\n",
              "\n",
              "        async function convertToInteractive(key) {\n",
              "          const element = document.querySelector('#df-41564ee8-1f11-4115-ba25-7f3e1bb66822');\n",
              "          const dataTable =\n",
              "            await google.colab.kernel.invokeFunction('convertToInteractive',\n",
              "                                                     [key], {});\n",
              "          if (!dataTable) return;\n",
              "\n",
              "          const docLinkHtml = 'Like what you see? Visit the ' +\n",
              "            '<a target=\"_blank\" href=https://colab.research.google.com/notebooks/data_table.ipynb>data table notebook</a>'\n",
              "            + ' to learn more about interactive tables.';\n",
              "          element.innerHTML = '';\n",
              "          dataTable['output_type'] = 'display_data';\n",
              "          await google.colab.output.renderOutput(dataTable, element);\n",
              "          const docLink = document.createElement('div');\n",
              "          docLink.innerHTML = docLinkHtml;\n",
              "          element.appendChild(docLink);\n",
              "        }\n",
              "      </script>\n",
              "    </div>\n",
              "  </div>\n",
              "  "
            ]
          },
          "metadata": {}
        }
      ]
    },
    {
      "cell_type": "markdown",
      "source": [
        "4. The 'Timestamp' column tells us when the survey was collected. I want to know when the start/end dates of data collection were, as mental well-being could easily be influenced by when data was collected, especially in recent years. For example, I'd assume people were generally more depressed during the peak of Covid lockdowns, and when recessions were occuring."
      ],
      "metadata": {
        "id": "GwIseWBtsV6x"
      }
    },
    {
      "cell_type": "code",
      "source": [
        "wellbeing_data['Timestamp'] = pd.to_datetime(wellbeing_data['Timestamp'])\n",
        "wellbeing_data['Timestamp'].agg(['min', 'max'])"
      ],
      "metadata": {
        "colab": {
          "base_uri": "https://localhost:8080/"
        },
        "id": "IT1Vj5jvxK6q",
        "outputId": "79f8ba8b-c3eb-4322-c145-1ce4ec4a988f"
      },
      "execution_count": 8,
      "outputs": [
        {
          "output_type": "execute_result",
          "data": {
            "text/plain": [
              "min   2015-07-07 00:00:00\n",
              "max   2021-03-14 09:03:00\n",
              "Name: Timestamp, dtype: datetime64[ns]"
            ]
          },
          "metadata": {},
          "execution_count": 8
        }
      ]
    },
    {
      "cell_type": "code",
      "source": [
        "wellbeing_data.groupby([wellbeing_data['Timestamp'].dt.year]).count().plot(kind=\"bar\", figsize=(20, 10))"
      ],
      "metadata": {
        "colab": {
          "base_uri": "https://localhost:8080/",
          "height": 620
        },
        "id": "TegWveC_yH8N",
        "outputId": "d26434fc-1c58-4e1d-954f-2f484cc840ea"
      },
      "execution_count": null,
      "outputs": [
        {
          "output_type": "execute_result",
          "data": {
            "text/plain": [
              "<matplotlib.axes._subplots.AxesSubplot at 0x7f5f8d8c6d00>"
            ]
          },
          "metadata": {},
          "execution_count": 25
        },
        {
          "output_type": "display_data",
          "data": {
            "text/plain": [
              "<Figure size 1440x720 with 1 Axes>"
            ],
            "image/png": "[encoded data removed]"
          },
          "metadata": {
            "needs_background": "light"
          }
        }
      ]
    },
    {
      "cell_type": "markdown",
      "source": [
        "**Exploratory Data Analysis Findings**\n",
        "\n",
        "1. No columns had significant amounts of missing data. I only had to drop one row for a singular bad value.\n",
        "\n",
        "2. Only three of the numeric features (Daily_Stress, Fruits_Veggies, and Sleep_hours) had relatively un-skewed bell curves. Flow, Achievement, Daily Shouting, and Time for Passion all skewed left. Places Visited, Core Circle, Supporting Others, Social Network, Donation, Personal Awards, and Weekly Meditation all skewed slightly left, but had a much higher value for '10 or more' than the rest of the values. \n",
        "Lost Vacation had a drastic difference between the counts of 0 values and any other, and Meditation had had a similarly drastic difference between 10 or more and the rest.\n",
        "More Females and younger people completed the survey, as well as people with BMIs < 25, although not by drastic amounts.\n",
        "Most of the people completing the survey had sufficient income to cover their expenses.\n",
        "\n",
        "3. Most of the features did not seem to be highly correlated. Flow, Achievement, and Time for Passion seemed to be the most highly correlated group of features, with Flow and Time for Passion having the highest correlation of 0.48. \n",
        "\n",
        "4. All data was collected between July 2015 and March 2021. A significant proportion of data was collected during the years of Covid lockdowns (2020 and 2021).\n",
        "\n",
        "These results will be discussed more deeply and mapped to feature engineering tasks in the next section."
      ],
      "metadata": {
        "id": "NE-74XgVigpP"
      }
    },
    {
      "cell_type": "markdown",
      "source": [
        "**Feature Engineering - Initial Plan**\n",
        "\n",
        "For the most part, I will leave the numeric features as is. Most of the have some skew, but making them categorical would lose valuable information that might affect the model. \n",
        "Since Lost Vacation and Meditation had such high values for 0 and 10, it's worth experimenting with turning each into a binary value. Lost Vacation's values would be 0='none', 1='some', and Mediation would be 0='less than 10', 1='greater than or equal to 10'.\n",
        "I don't think any of the variables were correlated enough to consider dropping. However, just for experiment's sake, I will experiment with dropping Flow and Time for Passion in separate models.\n",
        "Since a substantial portion of the data was collected during Covid lockdowns, I plan on transforming the timestamps into one binary column called 'During Lockdown', based on my hypothesis that the lockdowns might have significantly affected mental health. In addition, I will create another categorical column called 'Season', representing what season the data was collected during. My reasoning for this is my strong belief that seasonal depression is a thing."
      ],
      "metadata": {
        "id": "EizvfCSDnivt"
      }
    },
    {
      "cell_type": "markdown",
      "source": [
        "**Train Test Split**\n",
        "\n",
        "Since this dataset is pretty large (>15000 usable rows), I will be using a Train, Test, Holdout split.\n",
        "The percentages will be 70/15/15 Train/Test/Holdout."
      ],
      "metadata": {
        "id": "mU7S6zAtq7O0"
      }
    },
    {
      "cell_type": "markdown",
      "source": [
        "**Initial Pipeline**\n",
        "\n",
        "I will not need any imputation transformers to work with this dataset. However, several column transformers will need to be experimented with, leading to several different 'branches' of my pipeline.\n",
        "For Lost Vacation, a transformer will be applied to transform it into a binary categorical feature, with values = 0 being 0, and values >0 being 1.\n",
        "A transformer for Meditation will transform it into a binary categorical value, with values less than 10 mapping to 0, and greater than 10 mapping to 1.\n",
        "Yet another transformer will be applied to Timestamp, to turn it into the categorical 'Season' and 'During_Lockdown' columns discussed in the previous section. We will also experiment with transformers that drop either of Time for Passion and Flow. Finally, I will try Scaler transforms on all numerical columns to see if it makes a difference, although given that most are on a scale of 0-10 or 0-5 already, I hypothesize that it won't make much of a difference."
      ],
      "metadata": {
        "id": "em7Q7JfrrcJW"
      }
    },
    {
      "cell_type": "markdown",
      "source": [
        "**Model Fitting and Evaluation**\n",
        "\n",
        "Some assumptions I have about feature importance are:\n",
        "1. BMI range won't be a very important feature, as many athletic and healthy people have a BMI over 25. Likewise, many people with dwindling health may have a BMI under 25.\n",
        "2. Flow, Sufficient Income, and Core Circle will be the features that have the most drastic affect on model accuracy.\n",
        "3. A much higher proportion of people will have reported worse mental health during lockdowns. However, not being in a lockdown will be pretty well distributed either way. "
      ],
      "metadata": {
        "id": "bQ-fUATjt43e"
      }
    },
    {
      "cell_type": "markdown",
      "source": [
        "**Further EDA (Assignment 4)**\n",
        "1. Transform Timestamp data in to During_Lockdown and Seasons; then run histograms on each transformed category"
      ],
      "metadata": {
        "id": "BmR9qxbWS7bU"
      }
    },
    {
      "cell_type": "code",
      "source": [
        "# Note - just implementing the transforms as lambdas for the feature engineering exercise; will convert to a transformer class during pipeline stage\n",
        "def timestamp_to_season(l):\n",
        "  seasons_list_by_month_index = ['winter', 'winter', 'spring', 'spring', 'spring', 'summer', 'summer', 'summer', 'fall', 'fall', 'fall', 'winter' ]\n",
        "  return list(map(lambda x : seasons_list_by_month_index[x.month-1], l ))\n",
        "\n",
        "#There were a lot of choices for what to consider the 'start' and 'end' to the pandemic. For the purposes of this project,\n",
        "#I chose the start of shutdowns in the United States (March 15, 2020), and the date of removal of the last indoor universal mask \n",
        "#mandate in the US (Hawaii, March 26, 2022)\n",
        "#Source: https://www.cdc.gov/museum/timeline/covid19.html\n",
        "\n",
        "seasons_col = timestamp_to_season(wellbeing_data['Timestamp'])\n",
        "seasons_df = pd.DataFrame()\n",
        "seasons_df['seasons'] = seasons_col\n",
        "\n",
        "display(seasons_df['seasons'].value_counts().plot(kind='bar'))\n",
        "\n",
        "\n",
        "\n"
      ],
      "metadata": {
        "colab": {
          "base_uri": "https://localhost:8080/",
          "height": 314
        },
        "id": "0unNVvo7KR84",
        "outputId": "37903965-9ec1-490d-c9a1-00ffc233a324"
      },
      "execution_count": 15,
      "outputs": [
        {
          "output_type": "display_data",
          "data": {
            "text/plain": [
              "<matplotlib.axes._subplots.AxesSubplot at 0x7f5bc51383a0>"
            ]
          },
          "metadata": {}
        },
        {
          "output_type": "display_data",
          "data": {
            "text/plain": [
              "<Figure size 432x288 with 1 Axes>"
            ],
            "image/png": "[encoded data removed]"
          },
          "metadata": {
            "needs_background": "light"
          }
        }
      ]
    },
    {
      "cell_type": "code",
      "source": [
        "\n",
        "import datetime\n",
        "\n",
        "def timestamp_to_during_covid_restrictions(l):\n",
        "  date_start = datetime.datetime(2020, 3, 15)\n",
        "  date_end = datetime.datetime(2022, 3, 28)\n",
        "  return list(map(lambda x : x > date_start and x < date_end, l))\n",
        "\n",
        "covid_restrictions_col = timestamp_to_during_covid_restrictions(wellbeing_data['Timestamp'])\n",
        "covid_restrictions_df = pd.DataFrame()\n",
        "covid_restrictions_df['during_restrictions'] = covid_restrictions_col\n",
        "\n",
        "display(covid_restrictions_df['during_restrictions'].value_counts().plot(kind='bar'))\n"
      ],
      "metadata": {
        "colab": {
          "base_uri": "https://localhost:8080/",
          "height": 299
        },
        "id": "jnlfN16vXhbX",
        "outputId": "2c1eaef4-da5e-4faf-f72e-df9f81706d98"
      },
      "execution_count": 16,
      "outputs": [
        {
          "output_type": "display_data",
          "data": {
            "text/plain": [
              "<matplotlib.axes._subplots.AxesSubplot at 0x7f5bc515eb80>"
            ]
          },
          "metadata": {}
        },
        {
          "output_type": "display_data",
          "data": {
            "text/plain": [
              "<Figure size 432x288 with 1 Axes>"
            ],
            "image/png": "[encoded data removed]"
          },
          "metadata": {
            "needs_background": "light"
          }
        }
      ]
    },
    {
      "cell_type": "markdown",
      "source": [
        "  2. Transform DAILY_SHOUT and DAILY_STRESS into the combined column; determine how imbalanced the classes are"
      ],
      "metadata": {
        "id": "I1GGaly4XXNK"
      }
    },
    {
      "cell_type": "code",
      "source": [
        "def daily_shout_and_stress_to_is_mentally_healthy(shout_list, stress_list):\n",
        "  result = []\n",
        "  for (shout, stress) in zip(shout_list, stress_list):\n",
        "    result.append(shout < 1 and stress < 2)\n",
        "  return result\n",
        "\n",
        "shout = wellbeing_data['DAILY_SHOUTING']\n",
        "stress = wellbeing_data['DAILY_STRESS']\n",
        "\n",
        "health_scores = daily_shout_and_stress_to_is_mentally_healthy(shout, stress)\n",
        "health_scores_df = pd.DataFrame()\n",
        "health_scores_df['scores'] = health_scores\n",
        "\n",
        "display(health_scores_df['scores'].value_counts())\n",
        "display(health_scores_df['scores'].value_counts().plot(kind='bar'))\n"
      ],
      "metadata": {
        "colab": {
          "base_uri": "https://localhost:8080/",
          "height": 354
        },
        "id": "6rINAuFCXdMh",
        "outputId": "4ec63ffe-697c-4596-c255-7d4802a580ab"
      },
      "execution_count": 28,
      "outputs": [
        {
          "output_type": "display_data",
          "data": {
            "text/plain": [
              "False    15114\n",
              "True       857\n",
              "Name: scores, dtype: int64"
            ]
          },
          "metadata": {}
        },
        {
          "output_type": "display_data",
          "data": {
            "text/plain": [
              "<matplotlib.axes._subplots.AxesSubplot at 0x7f5bc5138b20>"
            ]
          },
          "metadata": {}
        },
        {
          "output_type": "display_data",
          "data": {
            "text/plain": [
              "<Figure size 432x288 with 1 Axes>"
            ],
            "image/png": "[encoded data removed]"
          },
          "metadata": {
            "needs_background": "light"
          }
        }
      ]
    },
    {
      "cell_type": "markdown",
      "source": [
        "Considering this class was pretty imbalanced, I figure it might not be fair to say that only 5% of the population is mentally healthy (although that might be true by my own personal standards). Therefore, I decided to do some further exploration, and try to find some more relaxed thresholds that allowed me to use both columns and still have a relatively balanced class. The numbers I found were DAILY_SHOUT < 3 and DAILY_STRESS < 4."
      ],
      "metadata": {
        "id": "cE2mCR8xdY4J"
      }
    },
    {
      "cell_type": "code",
      "source": [
        "def daily_shout_and_stress_to_is_mentally_healthy_revised(shout_list, stress_list):\n",
        "  result = []\n",
        "  for (shout, stress) in zip(shout_list, stress_list):\n",
        "    result.append(shout < 3 and stress < 4)\n",
        "  return result\n",
        "\n",
        "shout = wellbeing_data['DAILY_SHOUTING']\n",
        "stress = wellbeing_data['DAILY_STRESS']\n",
        "\n",
        "health_scores = daily_shout_and_stress_to_is_mentally_healthy_revised(shout, stress)\n",
        "health_scores_df = pd.DataFrame()\n",
        "health_scores_df['scores'] = health_scores\n",
        "\n",
        "display(health_scores_df['scores'].value_counts())\n",
        "display(health_scores_df['scores'].value_counts().plot(kind='bar'))"
      ],
      "metadata": {
        "id": "aUuOYTo0d80Y",
        "outputId": "51507147-a431-4186-fd73-a3f9a38cd6d5",
        "colab": {
          "base_uri": "https://localhost:8080/",
          "height": 354
        }
      },
      "execution_count": 29,
      "outputs": [
        {
          "output_type": "display_data",
          "data": {
            "text/plain": [
              "False    9221\n",
              "True     6750\n",
              "Name: scores, dtype: int64"
            ]
          },
          "metadata": {}
        },
        {
          "output_type": "display_data",
          "data": {
            "text/plain": [
              "<matplotlib.axes._subplots.AxesSubplot at 0x7f5bc4d6fa90>"
            ]
          },
          "metadata": {}
        },
        {
          "output_type": "display_data",
          "data": {
            "text/plain": [
              "<Figure size 432x288 with 1 Axes>"
            ],
            "image/png": "[encoded data removed]"
          },
          "metadata": {
            "needs_background": "light"
          }
        }
      ]
    },
    {
      "cell_type": "markdown",
      "source": [
        "**Further EDA Results**"
      ],
      "metadata": {
        "id": "QvHlXh_CYOoH"
      }
    },
    {
      "cell_type": "markdown",
      "source": [
        "**Feature Engineering**"
      ],
      "metadata": {
        "id": "jRfLMMXgYAZH"
      }
    },
    {
      "cell_type": "code",
      "source": [],
      "metadata": {
        "id": "TMw7EWX5VHP5"
      },
      "execution_count": null,
      "outputs": []
    },
    {
      "cell_type": "markdown",
      "source": [
        "**Pipeline Plan**"
      ],
      "metadata": {
        "id": "DHxpAacjYczj"
      }
    },
    {
      "cell_type": "code",
      "source": [],
      "metadata": {
        "id": "zA7goawVrIvJ"
      },
      "execution_count": null,
      "outputs": []
    }
  ]
}