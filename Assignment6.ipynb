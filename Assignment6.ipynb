{
  "nbformat": 4,
  "nbformat_minor": 0,
  "metadata": {
    "colab": {
      "provenance": [],
      "authorship_tag": "ABX9TyPIfWc2JCx7qeFcUDhIcqBp",
      "include_colab_link": true
    },
    "kernelspec": {
      "name": "python3",
      "display_name": "Python 3"
    },
    "language_info": {
      "name": "python"
    }
  },
  "cells": [
    {
      "cell_type": "markdown",
      "metadata": {
        "id": "view-in-github",
        "colab_type": "text"
      },
      "source": [
        "<a href=\"https://colab.research.google.com/github/ishankaul1/cs5262/blob/main/Assignment6.ipynb\" target=\"_parent\"><img src=\"https://colab.research.google.com/assets/colab-badge.svg\" alt=\"Open In Colab\"/></a>"
      ]
    },
    {
      "cell_type": "markdown",
      "source": [
        "**Intro**\n",
        "\n",
        "For this assignment, I will be undoing and experimenting with my feature engineering for the 'timestamp' column in my dataset. \n",
        "In the previous assignments, I transformed the timestamp column into 'seasons' and 'during_restrictions' (meaning whether or not the data was collected during covid restrictions), and then dropped the original timestamp column. However, I never actually performed testing on whether this feature engineering plan affected the model. For this assignment, I will run the same model over several different configurations of this feature engineering task to determine whether or not it actually improves the model.\n",
        "\n",
        "In addition, since I'm also curious to know whether my data is a better predictor of stress than the combined version of stress and shouting, I'll be dropping the shout column completely and only attempting to predict whether stress levels were greater than a '2' on a scale of 0 to 5.\n",
        "\n",
        "My feature engineering plan for the experiment is:\n",
        "\n",
        "\n",
        "1) Produce 4 different 'versions' of the same dataset. All will have the original Timestamp, Daily Shouting, and Wellbeing Score columns dropped, with the rest of the data intact and transformed the same way I did it in Assignments 1-5.\n",
        "  Version 1: Both during_restrictions and season are in the dataset.\n",
        "  Version 2: Only seasons is contained in the dataset.\n",
        "  Version 3: Only during_restrictions is contained in the dataset.\n",
        "  Version 4 (Control): Neither column in the dataset.\n",
        "\n",
        "2) Create 4 different pipelines, each fed by the different datasets I created in step 1). The rest of the pipeline will be the exact same as the original Random Forest pipeline I ran in Assignment 5, except with a smaller range of hyperparameters centered around where my model seemed to perform best.\n",
        "\n",
        "3) Compare the results of the best estimator for the 4 different models to determine whether either of these columns actually have any predictive power towards daily stress."
      ],
      "metadata": {
        "id": "dkyG0SASNwYF"
      }
    },
    {
      "cell_type": "markdown",
      "source": [
        "**Setup**"
      ],
      "metadata": {
        "id": "fccDvIsXvUcf"
      }
    },
    {
      "cell_type": "code",
      "execution_count": 7,
      "metadata": {
        "id": "QtGPAKFqNsZ5",
        "colab": {
          "base_uri": "https://localhost:8080/",
          "height": 538
        },
        "outputId": "176878f9-767b-4097-dacf-642a1bc30336"
      },
      "outputs": [
        {
          "output_type": "stream",
          "name": "stdout",
          "text": [
            "<class 'pandas.core.frame.DataFrame'>\n",
            "Int64Index: 15971 entries, 0 to 15971\n",
            "Data columns (total 22 columns):\n",
            " #   Column             Non-Null Count  Dtype         \n",
            "---  ------             --------------  -----         \n",
            " 0   Timestamp          15971 non-null  datetime64[ns]\n",
            " 1   FRUITS_VEGGIES     15971 non-null  int64         \n",
            " 2   DAILY_STRESS       15971 non-null  int64         \n",
            " 3   PLACES_VISITED     15971 non-null  int64         \n",
            " 4   CORE_CIRCLE        15971 non-null  int64         \n",
            " 5   SUPPORTING_OTHERS  15971 non-null  int64         \n",
            " 6   SOCIAL_NETWORK     15971 non-null  int64         \n",
            " 7   ACHIEVEMENT        15971 non-null  int64         \n",
            " 8   DONATION           15971 non-null  int64         \n",
            " 9   BMI_RANGE          15971 non-null  int64         \n",
            " 10  TODO_COMPLETED     15971 non-null  int64         \n",
            " 11  FLOW               15971 non-null  int64         \n",
            " 12  DAILY_STEPS        15971 non-null  int64         \n",
            " 13  LIVE_VISION        15971 non-null  int64         \n",
            " 14  SLEEP_HOURS        15971 non-null  int64         \n",
            " 15  LOST_VACATION      15971 non-null  int64         \n",
            " 16  SUFFICIENT_INCOME  15971 non-null  int64         \n",
            " 17  PERSONAL_AWARDS    15971 non-null  int64         \n",
            " 18  TIME_FOR_PASSION   15971 non-null  int64         \n",
            " 19  WEEKLY_MEDITATION  15971 non-null  int64         \n",
            " 20  AGE                15971 non-null  object        \n",
            " 21  GENDER             15971 non-null  object        \n",
            "dtypes: datetime64[ns](1), int64(19), object(2)\n",
            "memory usage: 2.8+ MB\n"
          ]
        },
        {
          "output_type": "display_data",
          "data": {
            "text/plain": [
              "None"
            ]
          },
          "metadata": {}
        }
      ],
      "source": [
        "#Import necessary libraries and read data\n",
        "import pandas as pd\n",
        "import numpy as np\n",
        "import seaborn as sns\n",
        "import matplotlib.pyplot as plt\n",
        "\n",
        "wellbeing_data = pd.read_csv('Wellbeing_and_lifestyle_data_Kaggle.csv')\n",
        "\n",
        "#Preliminary preprocessing so we can actually work with this data\n",
        "wellbeing_data = wellbeing_data.drop(['WORK_LIFE_BALANCE_SCORE', 'DAILY_SHOUTING'], axis=1)\n",
        "wellbeing_data = wellbeing_data[wellbeing_data['DAILY_STRESS'].apply(lambda x: str(x).isdigit())]\n",
        "wellbeing_data['DAILY_STRESS'] = wellbeing_data['DAILY_STRESS'].astype(str).astype(int)\n",
        "wellbeing_data['Timestamp'] = pd.to_datetime(wellbeing_data['Timestamp'])\n",
        "\n",
        "display(wellbeing_data.info())\n"
      ]
    },
    {
      "cell_type": "markdown",
      "source": [
        "**Step 1:** Create the four different dataset versions"
      ],
      "metadata": {
        "id": "61wUM-25vTqO"
      }
    },
    {
      "cell_type": "code",
      "source": [
        "import datetime\n",
        "\n",
        "#Transformation functions\n",
        "def timestamp_to_during_covid_restrictions(l):\n",
        "  date_start = datetime.datetime(2020, 3, 15)\n",
        "  date_end = datetime.datetime(2022, 3, 28)\n",
        "  return list(map(lambda x : x > date_start and x < date_end, l))\n",
        "\n",
        "def timestamp_to_season(l):\n",
        "  seasons_list_by_month_index = ['winter', 'winter', 'spring', 'spring', 'spring', 'summer', 'summer', 'summer', 'fall', 'fall', 'fall', 'winter' ]\n",
        "  return list(map(lambda x : seasons_list_by_month_index[x.month-1], l ))\n",
        "\n",
        "def stress_to_binary(l):\n",
        "  return list(map(lambda x : x > 2, l))\n",
        "\n",
        "#Transformed columns\n",
        "during_restrictions_col = timestamp_to_during_covid_restrictions(wellbeing_data['Timestamp'])\n",
        "seasons_col = timestamp_to_season(wellbeing_data['Timestamp'])\n",
        "\n",
        "#Drop timestamp since we're not going to be using it for any of the pipelines\n",
        "wellbeing_data = wellbeing_data.drop(['Timestamp'], axis=1)\n",
        "\n",
        "#extract target for reuse\n",
        "stress_df = pd.DataFrame()\n",
        "stress = stress_to_binary(wellbeing_data['DAILY_STRESS'])\n",
        "stress_df['stress'] = stress\n",
        "\n",
        "wellbeing_data = wellbeing_data.drop(['DAILY_STRESS'], axis=1)\n",
        "\n",
        "wellbeing_data = wellbeing_data.dropna()\n",
        "\n",
        "#Create the four datasets\n",
        "both_data = wellbeing_data.copy()\n",
        "both_data['seasons'] = seasons_col\n",
        "both_data['during_restrictions'] = during_restrictions_col\n",
        "\n",
        "seasons_data = wellbeing_data.copy()\n",
        "seasons_data['seasons'] = seasons_col\n",
        "\n",
        "during_restrictions_data = wellbeing_data.copy()\n",
        "during_restrictions_data['during_restrictions'] = during_restrictions_col\n",
        "\n",
        "neither_data = wellbeing_data.copy()\n",
        "\n",
        "\n",
        "display(both_data.info())\n",
        "display(seasons_data.info())\n",
        "display(during_restrictions_data.info())\n",
        "display(neither_data.info())\n",
        "\n",
        "\n",
        "\n",
        "\n",
        "\n",
        "\n"
      ],
      "metadata": {
        "colab": {
          "base_uri": "https://localhost:8080/",
          "height": 1000
        },
        "id": "Zm7DKGoGwkvb",
        "outputId": "6a7c3ae9-8b36-4f6e-a394-95cec6b16d85"
      },
      "execution_count": 8,
      "outputs": [
        {
          "output_type": "stream",
          "name": "stdout",
          "text": [
            "<class 'pandas.core.frame.DataFrame'>\n",
            "Int64Index: 15971 entries, 0 to 15971\n",
            "Data columns (total 22 columns):\n",
            " #   Column               Non-Null Count  Dtype \n",
            "---  ------               --------------  ----- \n",
            " 0   FRUITS_VEGGIES       15971 non-null  int64 \n",
            " 1   PLACES_VISITED       15971 non-null  int64 \n",
            " 2   CORE_CIRCLE          15971 non-null  int64 \n",
            " 3   SUPPORTING_OTHERS    15971 non-null  int64 \n",
            " 4   SOCIAL_NETWORK       15971 non-null  int64 \n",
            " 5   ACHIEVEMENT          15971 non-null  int64 \n",
            " 6   DONATION             15971 non-null  int64 \n",
            " 7   BMI_RANGE            15971 non-null  int64 \n",
            " 8   TODO_COMPLETED       15971 non-null  int64 \n",
            " 9   FLOW                 15971 non-null  int64 \n",
            " 10  DAILY_STEPS          15971 non-null  int64 \n",
            " 11  LIVE_VISION          15971 non-null  int64 \n",
            " 12  SLEEP_HOURS          15971 non-null  int64 \n",
            " 13  LOST_VACATION        15971 non-null  int64 \n",
            " 14  SUFFICIENT_INCOME    15971 non-null  int64 \n",
            " 15  PERSONAL_AWARDS      15971 non-null  int64 \n",
            " 16  TIME_FOR_PASSION     15971 non-null  int64 \n",
            " 17  WEEKLY_MEDITATION    15971 non-null  int64 \n",
            " 18  AGE                  15971 non-null  object\n",
            " 19  GENDER               15971 non-null  object\n",
            " 20  seasons              15971 non-null  object\n",
            " 21  during_restrictions  15971 non-null  bool  \n",
            "dtypes: bool(1), int64(18), object(3)\n",
            "memory usage: 2.7+ MB\n"
          ]
        },
        {
          "output_type": "display_data",
          "data": {
            "text/plain": [
              "None"
            ]
          },
          "metadata": {}
        },
        {
          "output_type": "stream",
          "name": "stdout",
          "text": [
            "<class 'pandas.core.frame.DataFrame'>\n",
            "Int64Index: 15971 entries, 0 to 15971\n",
            "Data columns (total 21 columns):\n",
            " #   Column             Non-Null Count  Dtype \n",
            "---  ------             --------------  ----- \n",
            " 0   FRUITS_VEGGIES     15971 non-null  int64 \n",
            " 1   PLACES_VISITED     15971 non-null  int64 \n",
            " 2   CORE_CIRCLE        15971 non-null  int64 \n",
            " 3   SUPPORTING_OTHERS  15971 non-null  int64 \n",
            " 4   SOCIAL_NETWORK     15971 non-null  int64 \n",
            " 5   ACHIEVEMENT        15971 non-null  int64 \n",
            " 6   DONATION           15971 non-null  int64 \n",
            " 7   BMI_RANGE          15971 non-null  int64 \n",
            " 8   TODO_COMPLETED     15971 non-null  int64 \n",
            " 9   FLOW               15971 non-null  int64 \n",
            " 10  DAILY_STEPS        15971 non-null  int64 \n",
            " 11  LIVE_VISION        15971 non-null  int64 \n",
            " 12  SLEEP_HOURS        15971 non-null  int64 \n",
            " 13  LOST_VACATION      15971 non-null  int64 \n",
            " 14  SUFFICIENT_INCOME  15971 non-null  int64 \n",
            " 15  PERSONAL_AWARDS    15971 non-null  int64 \n",
            " 16  TIME_FOR_PASSION   15971 non-null  int64 \n",
            " 17  WEEKLY_MEDITATION  15971 non-null  int64 \n",
            " 18  AGE                15971 non-null  object\n",
            " 19  GENDER             15971 non-null  object\n",
            " 20  seasons            15971 non-null  object\n",
            "dtypes: int64(18), object(3)\n",
            "memory usage: 2.7+ MB\n"
          ]
        },
        {
          "output_type": "display_data",
          "data": {
            "text/plain": [
              "None"
            ]
          },
          "metadata": {}
        },
        {
          "output_type": "stream",
          "name": "stdout",
          "text": [
            "<class 'pandas.core.frame.DataFrame'>\n",
            "Int64Index: 15971 entries, 0 to 15971\n",
            "Data columns (total 21 columns):\n",
            " #   Column               Non-Null Count  Dtype \n",
            "---  ------               --------------  ----- \n",
            " 0   FRUITS_VEGGIES       15971 non-null  int64 \n",
            " 1   PLACES_VISITED       15971 non-null  int64 \n",
            " 2   CORE_CIRCLE          15971 non-null  int64 \n",
            " 3   SUPPORTING_OTHERS    15971 non-null  int64 \n",
            " 4   SOCIAL_NETWORK       15971 non-null  int64 \n",
            " 5   ACHIEVEMENT          15971 non-null  int64 \n",
            " 6   DONATION             15971 non-null  int64 \n",
            " 7   BMI_RANGE            15971 non-null  int64 \n",
            " 8   TODO_COMPLETED       15971 non-null  int64 \n",
            " 9   FLOW                 15971 non-null  int64 \n",
            " 10  DAILY_STEPS          15971 non-null  int64 \n",
            " 11  LIVE_VISION          15971 non-null  int64 \n",
            " 12  SLEEP_HOURS          15971 non-null  int64 \n",
            " 13  LOST_VACATION        15971 non-null  int64 \n",
            " 14  SUFFICIENT_INCOME    15971 non-null  int64 \n",
            " 15  PERSONAL_AWARDS      15971 non-null  int64 \n",
            " 16  TIME_FOR_PASSION     15971 non-null  int64 \n",
            " 17  WEEKLY_MEDITATION    15971 non-null  int64 \n",
            " 18  AGE                  15971 non-null  object\n",
            " 19  GENDER               15971 non-null  object\n",
            " 20  during_restrictions  15971 non-null  bool  \n",
            "dtypes: bool(1), int64(18), object(2)\n",
            "memory usage: 2.6+ MB\n"
          ]
        },
        {
          "output_type": "display_data",
          "data": {
            "text/plain": [
              "None"
            ]
          },
          "metadata": {}
        },
        {
          "output_type": "stream",
          "name": "stdout",
          "text": [
            "<class 'pandas.core.frame.DataFrame'>\n",
            "Int64Index: 15971 entries, 0 to 15971\n",
            "Data columns (total 20 columns):\n",
            " #   Column             Non-Null Count  Dtype \n",
            "---  ------             --------------  ----- \n",
            " 0   FRUITS_VEGGIES     15971 non-null  int64 \n",
            " 1   PLACES_VISITED     15971 non-null  int64 \n",
            " 2   CORE_CIRCLE        15971 non-null  int64 \n",
            " 3   SUPPORTING_OTHERS  15971 non-null  int64 \n",
            " 4   SOCIAL_NETWORK     15971 non-null  int64 \n",
            " 5   ACHIEVEMENT        15971 non-null  int64 \n",
            " 6   DONATION           15971 non-null  int64 \n",
            " 7   BMI_RANGE          15971 non-null  int64 \n",
            " 8   TODO_COMPLETED     15971 non-null  int64 \n",
            " 9   FLOW               15971 non-null  int64 \n",
            " 10  DAILY_STEPS        15971 non-null  int64 \n",
            " 11  LIVE_VISION        15971 non-null  int64 \n",
            " 12  SLEEP_HOURS        15971 non-null  int64 \n",
            " 13  LOST_VACATION      15971 non-null  int64 \n",
            " 14  SUFFICIENT_INCOME  15971 non-null  int64 \n",
            " 15  PERSONAL_AWARDS    15971 non-null  int64 \n",
            " 16  TIME_FOR_PASSION   15971 non-null  int64 \n",
            " 17  WEEKLY_MEDITATION  15971 non-null  int64 \n",
            " 18  AGE                15971 non-null  object\n",
            " 19  GENDER             15971 non-null  object\n",
            "dtypes: int64(18), object(2)\n",
            "memory usage: 2.6+ MB\n"
          ]
        },
        {
          "output_type": "display_data",
          "data": {
            "text/plain": [
              "None"
            ]
          },
          "metadata": {}
        }
      ]
    },
    {
      "cell_type": "markdown",
      "source": [
        "Create test-train splits for each. Going with 80-20 and no holdout for simplicity."
      ],
      "metadata": {
        "id": "XG1Wbva0y55_"
      }
    },
    {
      "cell_type": "code",
      "source": [
        "\n",
        "from sklearn.model_selection import train_test_split\n",
        "\n",
        "random_seed = 42\n",
        "\n",
        "X_train_both, X_test_both, y_train_both, y_test_both = train_test_split(both_data, stress_df['stress'], test_size=0.2, \n",
        "                                                    random_state=random_seed)\n",
        "\n",
        "display(X_train_both.shape)\n",
        "display(X_test_both.shape)\n",
        "display(y_train_both.shape)\n",
        "display(y_test_both.shape)\n",
        "\n",
        "X_train_seasons, X_test_seasons, y_train_seasons, y_test_seasons = train_test_split(seasons_data, stress_df['stress'], test_size=0.2, \n",
        "                                                    random_state=random_seed)\n",
        "\n",
        "X_train_during_restrictions, X_test_during_restrictions, y_train_during_restrictions, y_test_during_restrictions = train_test_split(during_restrictions_data, stress_df['stress'], test_size=0.2, \n",
        "                                                    random_state=random_seed)\n",
        "\n",
        "X_train_neither, X_test_neither, y_train_neither, y_test_neither = train_test_split(neither_data, stress_df['stress'], test_size=0.2, \n",
        "                                                    random_state=random_seed)\n"
      ],
      "metadata": {
        "colab": {
          "base_uri": "https://localhost:8080/",
          "height": 86
        },
        "id": "vPMfOpyFyYUS",
        "outputId": "649f969e-6f7a-41bb-f634-d748567c34df"
      },
      "execution_count": 9,
      "outputs": [
        {
          "output_type": "display_data",
          "data": {
            "text/plain": [
              "(12776, 22)"
            ]
          },
          "metadata": {}
        },
        {
          "output_type": "display_data",
          "data": {
            "text/plain": [
              "(3195, 22)"
            ]
          },
          "metadata": {}
        },
        {
          "output_type": "display_data",
          "data": {
            "text/plain": [
              "(12776,)"
            ]
          },
          "metadata": {}
        },
        {
          "output_type": "display_data",
          "data": {
            "text/plain": [
              "(3195,)"
            ]
          },
          "metadata": {}
        }
      ]
    },
    {
      "cell_type": "markdown",
      "source": [
        "Step 2: Create the pipelines for each"
      ],
      "metadata": {
        "id": "PA7SDmVv1R_J"
      }
    },
    {
      "cell_type": "code",
      "source": [
        "from sklearn.model_selection import GridSearchCV\n",
        "from sklearn.ensemble import RandomForestClassifier\n",
        "from sklearn.pipeline import Pipeline \n",
        "from sklearn.impute import SimpleImputer\n",
        "from sklearn.compose import ColumnTransformer\n",
        "from sklearn.preprocessing import OneHotEncoder\n",
        "\n",
        "#establish categorical pipeline. Skipping numerical scaling for now since the numerical values are already scaled 1-10\n",
        "cat_pipeline = Pipeline(steps=[('cat_impute', SimpleImputer(strategy='most_frequent')), ('onehot_cat', OneHotEncoder())])\n",
        "#ended up needing to impute because of NANs\n",
        "num_pipeline = Pipeline(steps=[('impute_num', SimpleImputer(strategy='mean'))])\n",
        "\n",
        "#They all have the same num cols, but cat cols are different\n",
        "num_cols = list(wellbeing_data.select_dtypes('int64').columns)\n",
        "\n",
        "cat_cols_both = [7, 18, 19, 20, 21]\n",
        "cat_cols_seasons = [7, 18, 19, 20]\n",
        "cat_cols_during_restrictions = [7, 18, 19, 20]\n",
        "cat_cols_neither = [7, 18, 19]\n",
        "\n",
        "display(num_cols)\n",
        "\n",
        "preproc_both = ColumnTransformer([('cat_pipe', cat_pipeline, cat_cols_both), ('num_pipe', num_pipeline, num_cols) ], remainder='passthrough')\n",
        "preproc_seasons = ColumnTransformer([('cat_pipe', cat_pipeline, cat_cols_seasons), ('num_pipe', num_pipeline, num_cols) ], remainder='passthrough')\n",
        "preproc_during_restrictions = ColumnTransformer([('cat_pipe', cat_pipeline, cat_cols_during_restrictions), ('num_pipe', num_pipeline, num_cols) ], remainder='passthrough')\n",
        "preproc_neither = ColumnTransformer([('cat_pipe', cat_pipeline, cat_cols_neither), ('num_pipe', num_pipeline, num_cols) ], remainder='passthrough')\n",
        "\n",
        "pipe_both = Pipeline(steps=[('preproc', preproc_both), ('mdl', RandomForestClassifier())])\n",
        "pipe_seasons = Pipeline(steps=[('preproc', preproc_seasons), ('mdl', RandomForestClassifier())])\n",
        "pipe_during_restrictions = Pipeline(steps=[('preproc', preproc_during_restrictions), ('mdl', RandomForestClassifier())])\n",
        "pipe_neither = Pipeline(steps=[('preproc', preproc_neither), ('mdl', RandomForestClassifier())])\n",
        "\n"
      ],
      "metadata": {
        "colab": {
          "base_uri": "https://localhost:8080/",
          "height": 329
        },
        "id": "s2PlJnPR1cvN",
        "outputId": "3c9c31a7-5c23-4b09-c728-af637e06f5a3"
      },
      "execution_count": 10,
      "outputs": [
        {
          "output_type": "display_data",
          "data": {
            "text/plain": [
              "['FRUITS_VEGGIES',\n",
              " 'PLACES_VISITED',\n",
              " 'CORE_CIRCLE',\n",
              " 'SUPPORTING_OTHERS',\n",
              " 'SOCIAL_NETWORK',\n",
              " 'ACHIEVEMENT',\n",
              " 'DONATION',\n",
              " 'BMI_RANGE',\n",
              " 'TODO_COMPLETED',\n",
              " 'FLOW',\n",
              " 'DAILY_STEPS',\n",
              " 'LIVE_VISION',\n",
              " 'SLEEP_HOURS',\n",
              " 'LOST_VACATION',\n",
              " 'SUFFICIENT_INCOME',\n",
              " 'PERSONAL_AWARDS',\n",
              " 'TIME_FOR_PASSION',\n",
              " 'WEEKLY_MEDITATION']"
            ]
          },
          "metadata": {}
        }
      ]
    },
    {
      "cell_type": "markdown",
      "source": [
        "Set the pipelines and grid searches up to run on each set of data\n",
        "\n"
      ],
      "metadata": {
        "id": "ySVENPEn4L-A"
      }
    },
    {
      "cell_type": "code",
      "source": [
        "\n",
        "\n",
        "rf_tuning_grid = {\n",
        "    'mdl__max_depth': [5, 10, 15],\n",
        "    'mdl__min_samples_split': [2, 5, 10],\n",
        "    'mdl__max_features': [2, 4, 6]\n",
        "    } \n",
        "\n",
        "grid_search_both = GridSearchCV(pipe_both, param_grid=rf_tuning_grid, cv=5, return_train_score=True, n_jobs=1)\n",
        "grid_search_seasons = GridSearchCV(pipe_seasons, param_grid=rf_tuning_grid, cv=5, return_train_score=True, n_jobs=1)\n",
        "grid_search_neither = GridSearchCV(pipe_neither, param_grid=rf_tuning_grid, cv=5, return_train_score=True, n_jobs=1)\n",
        "grid_search_during_restrictions = GridSearchCV(pipe_during_restrictions, param_grid=rf_tuning_grid, cv=5, return_train_score=True, n_jobs=1)\n",
        "\n"
      ],
      "metadata": {
        "id": "TgHZgxbD4Ktl"
      },
      "execution_count": 11,
      "outputs": []
    },
    {
      "cell_type": "markdown",
      "source": [
        "**Run the grid searches for each separately**"
      ],
      "metadata": {
        "id": "B5L6SRnx5R8c"
      }
    },
    {
      "cell_type": "markdown",
      "source": [
        "Dataset 1:"
      ],
      "metadata": {
        "id": "g2BCqjHJA0vS"
      }
    },
    {
      "cell_type": "code",
      "source": [
        "grid_search_both.fit(X_train_both, y_train_both.values.ravel())\n",
        "print(grid_search_both.best_score_)"
      ],
      "metadata": {
        "colab": {
          "base_uri": "https://localhost:8080/"
        },
        "id": "vrkcPf7M5RLE",
        "outputId": "0a5fd7e2-902d-47d7-9b36-035f43b1096c"
      },
      "execution_count": null,
      "outputs": [
        {
          "output_type": "stream",
          "name": "stdout",
          "text": [
            "0.6693011340493493\n"
          ]
        }
      ]
    },
    {
      "cell_type": "code",
      "source": [
        "from sklearn.metrics import classification_report\n",
        "print(classification_report(y_test_both, grid_search_both.best_estimator_.predict(X_test_both)))"
      ],
      "metadata": {
        "colab": {
          "base_uri": "https://localhost:8080/"
        },
        "id": "z5dlMM476vML",
        "outputId": "ba9c00f0-f5c6-4f5a-a237-21fb67209854"
      },
      "execution_count": null,
      "outputs": [
        {
          "output_type": "stream",
          "name": "stdout",
          "text": [
            "              precision    recall  f1-score   support\n",
            "\n",
            "       False       0.64      0.44      0.52      1315\n",
            "        True       0.68      0.82      0.74      1880\n",
            "\n",
            "    accuracy                           0.67      3195\n",
            "   macro avg       0.66      0.63      0.63      3195\n",
            "weighted avg       0.66      0.67      0.65      3195\n",
            "\n"
          ]
        }
      ]
    },
    {
      "cell_type": "code",
      "source": [
        "from sklearn.metrics import ConfusionMatrixDisplay, confusion_matrix\n",
        "cm = confusion_matrix(y_test_both, grid_search_both.best_estimator_.predict(X_test_both))\n",
        "disp = ConfusionMatrixDisplay(confusion_matrix=cm)\n",
        "disp.plot()\n",
        "\n",
        "plt.show()"
      ],
      "metadata": {
        "colab": {
          "base_uri": "https://localhost:8080/",
          "height": 279
        },
        "id": "QubzL-viAsCT",
        "outputId": "db6c645f-83d7-4ad3-e8bd-3dd9319340c3"
      },
      "execution_count": null,
      "outputs": [
        {
          "output_type": "display_data",
          "data": {
            "text/plain": [
              "<Figure size 432x288 with 2 Axes>"
            ],
            "image/png": "[encoded data removed]"
          },
          "metadata": {
            "needs_background": "light"
          }
        }
      ]
    },
    {
      "cell_type": "markdown",
      "source": [
        "**Dataset 2:**"
      ],
      "metadata": {
        "id": "rL9Q5owmuQJ7"
      }
    },
    {
      "cell_type": "code",
      "source": [
        "grid_search_seasons.fit(X_train_seasons, y_train_seasons.values.ravel())\n",
        "print(grid_search_seasons.best_score_)"
      ],
      "metadata": {
        "colab": {
          "base_uri": "https://localhost:8080/"
        },
        "id": "5n0STH_Hueeb",
        "outputId": "2bf88e66-19bd-4e38-8cdc-11fdad7c3425"
      },
      "execution_count": 12,
      "outputs": [
        {
          "output_type": "stream",
          "name": "stdout",
          "text": [
            "0.6709443265376123\n"
          ]
        }
      ]
    },
    {
      "cell_type": "code",
      "source": [
        "from sklearn.metrics import classification_report\n",
        "\n",
        "print(classification_report(y_test_seasons, grid_search_seasons.best_estimator_.predict(X_test_seasons)))"
      ],
      "metadata": {
        "colab": {
          "base_uri": "https://localhost:8080/"
        },
        "id": "bpZIrOpXufHk",
        "outputId": "c3b0c879-aec9-4135-d54c-c5daeaa77c07"
      },
      "execution_count": 16,
      "outputs": [
        {
          "output_type": "stream",
          "name": "stdout",
          "text": [
            "              precision    recall  f1-score   support\n",
            "\n",
            "       False       0.64      0.42      0.51      1315\n",
            "        True       0.67      0.84      0.75      1880\n",
            "\n",
            "    accuracy                           0.66      3195\n",
            "   macro avg       0.66      0.63      0.63      3195\n",
            "weighted avg       0.66      0.66      0.65      3195\n",
            "\n"
          ]
        }
      ]
    },
    {
      "cell_type": "code",
      "source": [
        "from sklearn.metrics import ConfusionMatrixDisplay, confusion_matrix\n",
        "\n",
        "cm = confusion_matrix(y_test_seasons, grid_search_seasons.best_estimator_.predict(X_test_seasons))\n",
        "disp = ConfusionMatrixDisplay(confusion_matrix=cm)\n",
        "disp.plot()\n",
        "\n",
        "plt.show()"
      ],
      "metadata": {
        "colab": {
          "base_uri": "https://localhost:8080/",
          "height": 279
        },
        "id": "AzmE-1PHuipB",
        "outputId": "ed95a53b-a97d-4f71-b89a-2876ffb06bb4"
      },
      "execution_count": 17,
      "outputs": [
        {
          "output_type": "display_data",
          "data": {
            "text/plain": [
              "<Figure size 432x288 with 2 Axes>"
            ],
            "image/png": "[encoded data removed]"
          },
          "metadata": {
            "needs_background": "light"
          }
        }
      ]
    },
    {
      "cell_type": "markdown",
      "source": [
        "**Dataset 3:**"
      ],
      "metadata": {
        "id": "_qeUXaK5uV7I"
      }
    },
    {
      "cell_type": "code",
      "source": [
        "grid_search_during_restrictions.fit(X_train_during_restrictions, y_train_during_restrictions.values.ravel())\n",
        "print(grid_search_during_restrictions.best_score_)"
      ],
      "metadata": {
        "colab": {
          "base_uri": "https://localhost:8080/"
        },
        "id": "NBTMS7qeydvC",
        "outputId": "cd54846d-4b49-4fb5-f7c1-274e3130de42"
      },
      "execution_count": 13,
      "outputs": [
        {
          "output_type": "stream",
          "name": "stdout",
          "text": [
            "0.6717278710313631\n"
          ]
        }
      ]
    },
    {
      "cell_type": "code",
      "source": [
        "print(classification_report(y_test_during_restrictions, grid_search_during_restrictions.best_estimator_.predict(X_test_during_restrictions)))"
      ],
      "metadata": {
        "colab": {
          "base_uri": "https://localhost:8080/"
        },
        "id": "J37snIayye_l",
        "outputId": "5fce86d0-c6f6-4a15-f645-595f905dcf06"
      },
      "execution_count": 18,
      "outputs": [
        {
          "output_type": "stream",
          "name": "stdout",
          "text": [
            "              precision    recall  f1-score   support\n",
            "\n",
            "       False       0.64      0.45      0.53      1315\n",
            "        True       0.68      0.82      0.74      1880\n",
            "\n",
            "    accuracy                           0.67      3195\n",
            "   macro avg       0.66      0.63      0.63      3195\n",
            "weighted avg       0.66      0.67      0.65      3195\n",
            "\n"
          ]
        }
      ]
    },
    {
      "cell_type": "code",
      "source": [
        "cm = confusion_matrix(y_test_during_restrictions, grid_search_during_restrictions.best_estimator_.predict(X_test_during_restrictions))\n",
        "disp = ConfusionMatrixDisplay(confusion_matrix=cm)\n",
        "disp.plot()\n",
        "\n",
        "plt.show()"
      ],
      "metadata": {
        "colab": {
          "base_uri": "https://localhost:8080/",
          "height": 279
        },
        "id": "jLfRSetXyhJY",
        "outputId": "91a2e2f1-cd0f-4af0-8f4a-94b3a5b55a7b"
      },
      "execution_count": 19,
      "outputs": [
        {
          "output_type": "display_data",
          "data": {
            "text/plain": [
              "<Figure size 432x288 with 2 Axes>"
            ],
            "image/png": "[encoded data removed]"
          },
          "metadata": {
            "needs_background": "light"
          }
        }
      ]
    },
    {
      "cell_type": "markdown",
      "source": [
        "**Dataset 4:**"
      ],
      "metadata": {
        "id": "Gyy5knnduYDh"
      }
    },
    {
      "cell_type": "code",
      "source": [
        "grid_search_neither.fit(X_train_neither, y_train_neither.values.ravel())\n",
        "print(grid_search_neither.best_score_)"
      ],
      "metadata": {
        "colab": {
          "base_uri": "https://localhost:8080/"
        },
        "id": "w3B-Uv9LuSof",
        "outputId": "f66f08c2-9151-440c-f2b1-96bb9cd7f442"
      },
      "execution_count": 14,
      "outputs": [
        {
          "output_type": "stream",
          "name": "stdout",
          "text": [
            "0.6701620683002123\n"
          ]
        }
      ]
    },
    {
      "cell_type": "code",
      "source": [
        "print(classification_report(y_test_neither, grid_search_neither.best_estimator_.predict(X_test_neither)))"
      ],
      "metadata": {
        "colab": {
          "base_uri": "https://localhost:8080/"
        },
        "id": "76ZJNXEHzP6f",
        "outputId": "8d0edb9e-14c6-4947-a1b6-09a1dc2b96e0"
      },
      "execution_count": 20,
      "outputs": [
        {
          "output_type": "stream",
          "name": "stdout",
          "text": [
            "              precision    recall  f1-score   support\n",
            "\n",
            "       False       0.63      0.46      0.53      1315\n",
            "        True       0.68      0.81      0.74      1880\n",
            "\n",
            "    accuracy                           0.67      3195\n",
            "   macro avg       0.66      0.64      0.64      3195\n",
            "weighted avg       0.66      0.67      0.66      3195\n",
            "\n"
          ]
        }
      ]
    },
    {
      "cell_type": "code",
      "source": [
        "cm = confusion_matrix(y_test_neither, grid_search_neither.best_estimator_.predict(X_test_neither))\n",
        "disp = ConfusionMatrixDisplay(confusion_matrix=cm)\n",
        "disp.plot()\n",
        "\n",
        "plt.show()"
      ],
      "metadata": {
        "colab": {
          "base_uri": "https://localhost:8080/",
          "height": 279
        },
        "id": "JE4kBBIczRrP",
        "outputId": "88ccec20-c9a9-4724-f0be-9edafe9f7109"
      },
      "execution_count": 21,
      "outputs": [
        {
          "output_type": "display_data",
          "data": {
            "text/plain": [
              "<Figure size 432x288 with 2 Axes>"
            ],
            "image/png": "[encoded data removed]"
          },
          "metadata": {
            "needs_background": "light"
          }
        }
      ]
    },
    {
      "cell_type": "markdown",
      "source": [
        "**Evaluation**\n",
        "\n",
        "Unfortunately, there seemed to be pretty much no difference in the scores outputted by the 4 different models. Even the precision, recall and F1 scores for positive and negative values had almost no change among the four values. Therefore, I can pretty safely conclude that neither feature had valuable enough predictive power to consider including in the model.\n"
      ],
      "metadata": {
        "id": "Ed9WgUW7AALV"
      }
    }
  ]
}